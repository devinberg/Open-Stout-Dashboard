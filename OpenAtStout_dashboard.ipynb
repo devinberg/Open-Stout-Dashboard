{
 "cells": [
  {
   "cell_type": "code",
   "execution_count": 1,
   "id": "ordered-preparation",
   "metadata": {
    "execution": {
     "iopub.execute_input": "2021-03-20T10:29:11.776087Z",
     "iopub.status.busy": "2021-03-20T10:29:11.775507Z",
     "iopub.status.idle": "2021-03-20T10:29:12.764711Z",
     "shell.execute_reply": "2021-03-20T10:29:12.764090Z"
    },
    "papermill": {
     "duration": 1.007001,
     "end_time": "2021-03-20T10:29:12.764864",
     "exception": false,
     "start_time": "2021-03-20T10:29:11.757863",
     "status": "completed"
    },
    "tags": []
   },
   "outputs": [],
   "source": [
    "import pandas as pd\n",
    "import json\n",
    "import requests\n",
    "from pandas import json_normalize\n",
    "import matplotlib.pyplot as plt\n",
    "from matplotlib import dates\n",
    "from datetime import date\n",
    "from IPython.display import display, Markdown\n",
    "%matplotlib inline"
   ]
  },
  {
   "cell_type": "code",
   "execution_count": 2,
   "id": "coordinate-deadline",
   "metadata": {
    "execution": {
     "iopub.execute_input": "2021-03-20T10:29:12.784620Z",
     "iopub.status.busy": "2021-03-20T10:29:12.784062Z",
     "iopub.status.idle": "2021-03-20T10:29:13.818277Z",
     "shell.execute_reply": "2021-03-20T10:29:13.817743Z"
    },
    "papermill": {
     "duration": 1.0467,
     "end_time": "2021-03-20T10:29:13.818423",
     "exception": false,
     "start_time": "2021-03-20T10:29:12.771723",
     "status": "completed"
    },
    "tags": []
   },
   "outputs": [],
   "source": [
    "# Load page 1 of data and initialize the dataframes.\n",
    "jsonObj = json.loads(requests.get('https://api.osf.io/v2/institutions/uwstout/users/?format=json').text)\n",
    "metadf = pd.json_normalize(jsonObj[\"links\"])\n",
    "df = pd.json_normalize(jsonObj[\"data\"])\n",
    "\n",
    "jsonObj = json.loads(requests.get('https://api.osf.io/v2/institutions/uwstout/nodes/?format=json').text)\n",
    "metadf1 = pd.json_normalize(jsonObj[\"links\"])\n",
    "df1 = pd.json_normalize(jsonObj[\"data\"])"
   ]
  },
  {
   "cell_type": "code",
   "execution_count": 3,
   "id": "chubby-coordinate",
   "metadata": {
    "execution": {
     "iopub.execute_input": "2021-03-20T10:29:13.840777Z",
     "iopub.status.busy": "2021-03-20T10:29:13.840213Z",
     "iopub.status.idle": "2021-03-20T10:29:16.094078Z",
     "shell.execute_reply": "2021-03-20T10:29:16.093418Z"
    },
    "papermill": {
     "duration": 2.269329,
     "end_time": "2021-03-20T10:29:16.094365",
     "exception": false,
     "start_time": "2021-03-20T10:29:13.825036",
     "status": "completed"
    },
    "tags": []
   },
   "outputs": [],
   "source": [
    "# Check for additional pages and append to dataframe.\n",
    "while metadf['next'].item() != None:\n",
    "    jsonObj = json.loads(requests.get(metadf['next'].item()).text)\n",
    "    metadf = pd.json_normalize(jsonObj[\"links\"])\n",
    "    df2 = pd.json_normalize(jsonObj[\"data\"])\n",
    "    df = df.append(df2)\n",
    "\n",
    "while metadf1['next'].item() != None:\n",
    "    jsonObj = json.loads(requests.get(metadf1['next'].item()).text)\n",
    "    metadf1 = pd.json_normalize(jsonObj[\"links\"])\n",
    "    df2 = pd.json_normalize(jsonObj[\"data\"])\n",
    "    df1 = df1.append(df2)"
   ]
  },
  {
   "cell_type": "code",
   "execution_count": 4,
   "id": "cleared-nepal",
   "metadata": {
    "execution": {
     "iopub.execute_input": "2021-03-20T10:29:16.120658Z",
     "iopub.status.busy": "2021-03-20T10:29:16.119745Z",
     "iopub.status.idle": "2021-03-20T10:29:16.126131Z",
     "shell.execute_reply": "2021-03-20T10:29:16.125614Z"
    },
    "papermill": {
     "duration": 0.024509,
     "end_time": "2021-03-20T10:29:16.126252",
     "exception": false,
     "start_time": "2021-03-20T10:29:16.101743",
     "status": "completed"
    },
    "tags": []
   },
   "outputs": [],
   "source": [
    "# Sort data by registration date and add count column.\n",
    "df['attributes.date_registered'] = pd.to_datetime(df['attributes.date_registered'])\n",
    "df = df.sort_values(by=['attributes.date_registered'], ascending=True)\n",
    "df.set_index('attributes.date_registered',inplace=True)\n",
    "df['count'] = range(1,len(df) + 1)\n",
    "countusers = df['count'][-1]\n",
    "\n",
    "df1['attributes.date_created'] = pd.to_datetime(df1['attributes.date_created'])\n",
    "df1 = df1.sort_values(by=['attributes.date_created'], ascending=True)\n",
    "df1.set_index('attributes.date_created',inplace=True)\n",
    "df1['count'] = range(1,len(df1) + 1)\n",
    "countnodes = df1['count'][-1]\n",
    "today = date.today()"
   ]
  },
  {
   "cell_type": "code",
   "execution_count": 5,
   "id": "funky-thanks",
   "metadata": {
    "execution": {
     "iopub.execute_input": "2021-03-20T10:29:16.145268Z",
     "iopub.status.busy": "2021-03-20T10:29:16.144704Z",
     "iopub.status.idle": "2021-03-20T10:29:16.147879Z",
     "shell.execute_reply": "2021-03-20T10:29:16.147384Z"
    },
    "papermill": {
     "duration": 0.015737,
     "end_time": "2021-03-20T10:29:16.148001",
     "exception": false,
     "start_time": "2021-03-20T10:29:16.132264",
     "status": "completed"
    },
    "tags": []
   },
   "outputs": [
    {
     "data": {
      "text/markdown": [
       "# As of March 20, 2021 there are <span style=\"color:red\">22</span> Open@Stout users and <span style=\"color:red\">31</span> public projects!"
      ],
      "text/plain": [
       "<IPython.core.display.Markdown object>"
      ]
     },
     "metadata": {},
     "output_type": "display_data"
    }
   ],
   "source": [
    "display(Markdown('# As of ' + today.strftime(\"%B %d, %Y\") + ' there are <span style=\\\"color:red\\\">'+ str(countusers) + '</span> Open@Stout users and <span style=\\\"color:red\\\">'+ str(countnodes) + '</span> public projects!'))"
   ]
  },
  {
   "cell_type": "code",
   "execution_count": 6,
   "id": "extra-report",
   "metadata": {
    "execution": {
     "iopub.execute_input": "2021-03-20T10:29:16.166435Z",
     "iopub.status.busy": "2021-03-20T10:29:16.165881Z",
     "iopub.status.idle": "2021-03-20T10:29:16.359618Z",
     "shell.execute_reply": "2021-03-20T10:29:16.360060Z"
    },
    "papermill": {
     "duration": 0.205686,
     "end_time": "2021-03-20T10:29:16.360219",
     "exception": false,
     "start_time": "2021-03-20T10:29:16.154533",
     "status": "completed"
    },
    "tags": []
   },
   "outputs": [
    {
     "data": {
      "image/png": "[encoded data removed]",
      "text/plain": [
       "<Figure size 864x432 with 1 Axes>"
      ]
     },
     "metadata": {
      "needs_background": "light"
     },
     "output_type": "display_data"
    }
   ],
   "source": [
    "outplot = df.plot(y='count', legend=False, grid='True', figsize=(12,6));\n",
    "outplot.set_ylabel(\"Number of registered users\");\n",
    "outplot.set_xlabel(\"Date\");"
   ]
  },
  {
   "cell_type": "code",
   "execution_count": 7,
   "id": "electoral-principle",
   "metadata": {
    "execution": {
     "iopub.execute_input": "2021-03-20T10:29:16.405008Z",
     "iopub.status.busy": "2021-03-20T10:29:16.404035Z",
     "iopub.status.idle": "2021-03-20T10:29:16.618493Z",
     "shell.execute_reply": "2021-03-20T10:29:16.618940Z"
    },
    "papermill": {
     "duration": 0.249566,
     "end_time": "2021-03-20T10:29:16.619102",
     "exception": false,
     "start_time": "2021-03-20T10:29:16.369536",
     "status": "completed"
    },
    "tags": []
   },
   "outputs": [
    {
     "data": {
      "image/png": "[encoded data removed]",
      "text/plain": [
       "<Figure size 864x432 with 1 Axes>"
      ]
     },
     "metadata": {
      "needs_background": "light"
     },
     "output_type": "display_data"
    }
   ],
   "source": [
    "outplot1 = df1.plot(y='count', legend=False, grid='True', figsize=(12,6));\n",
    "outplot1.set_ylabel(\"Number of affiliated projects\");\n",
    "outplot1.set_xlabel(\"Date\");"
   ]
  },
  {
   "cell_type": "code",
   "execution_count": 8,
   "id": "japanese-prayer",
   "metadata": {
    "execution": {
     "iopub.execute_input": "2021-03-20T10:29:16.640846Z",
     "iopub.status.busy": "2021-03-20T10:29:16.640279Z",
     "iopub.status.idle": "2021-03-20T10:29:16.642467Z",
     "shell.execute_reply": "2021-03-20T10:29:16.642898Z"
    },
    "papermill": {
     "duration": 0.015434,
     "end_time": "2021-03-20T10:29:16.643043",
     "exception": false,
     "start_time": "2021-03-20T10:29:16.627609",
     "status": "completed"
    },
    "tags": []
   },
   "outputs": [
    {
     "data": {
      "text/html": [
       "<style>\n",
       "div.input {\n",
       "    display:none;\n",
       "}\n",
       "</style>\n"
      ],
      "text/plain": [
       "<IPython.core.display.HTML object>"
      ]
     },
     "metadata": {},
     "output_type": "display_data"
    }
   ],
   "source": [
    "%%html\n",
    "<style>\n",
    "div.input {\n",
    "    display:none;\n",
    "}\n",
    "</style>"
   ]
  }
 ],
 "metadata": {
  "kernelspec": {
   "display_name": "Python 3",
   "language": "python",
   "name": "python3"
  },
  "language_info": {
   "codemirror_mode": {
    "name": "ipython",
    "version": 3
   },
   "file_extension": ".py",
   "mimetype": "text/x-python",
   "name": "python",
   "nbconvert_exporter": "python",
   "pygments_lexer": "ipython3",
   "version": "3.8.8"
  },
  "papermill": {
   "default_parameters": {},
   "duration": 6.988425,
   "end_time": "2021-03-20T10:29:17.058454",
   "environment_variables": {},
   "exception": null,
   "input_path": "OpenAtStout_dashboard.ipynb",
   "output_path": "OpenAtStout_dashboard.ipynb",
   "parameters": {},
   "start_time": "2021-03-20T10:29:10.070029",
   "version": "2.2.2"
  }
 },
 "nbformat": 4,
 "nbformat_minor": 5
}