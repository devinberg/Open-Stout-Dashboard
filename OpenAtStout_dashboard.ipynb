{
 "cells": [
  {
   "cell_type": "code",
   "execution_count": 1,
   "id": "ordered-preparation",
   "metadata": {
    "execution": {
     "iopub.execute_input": "2022-05-28T10:27:43.004409Z",
     "iopub.status.busy": "2022-05-28T10:27:43.004072Z",
     "iopub.status.idle": "2022-05-28T10:27:44.266700Z",
     "shell.execute_reply": "2022-05-28T10:27:44.265925Z"
    },
    "papermill": {
     "duration": 1.269638,
     "end_time": "2022-05-28T10:27:44.269114",
     "exception": false,
     "start_time": "2022-05-28T10:27:42.999476",
     "status": "completed"
    },
    "tags": []
   },
   "outputs": [],
   "source": [
    "import pandas as pd\n",
    "import json\n",
    "import requests\n",
    "from pandas import json_normalize\n",
    "import matplotlib.pyplot as plt\n",
    "from matplotlib import dates\n",
    "from datetime import date\n",
    "from IPython.display import display, Markdown\n",
    "%matplotlib inline"
   ]
  },
  {
   "cell_type": "code",
   "execution_count": 2,
   "id": "coordinate-deadline",
   "metadata": {
    "execution": {
     "iopub.execute_input": "2022-05-28T10:27:44.275669Z",
     "iopub.status.busy": "2022-05-28T10:27:44.274925Z",
     "iopub.status.idle": "2022-05-28T10:27:45.394836Z",
     "shell.execute_reply": "2022-05-28T10:27:45.394100Z"
    },
    "papermill": {
     "duration": 1.125335,
     "end_time": "2022-05-28T10:27:45.397092",
     "exception": false,
     "start_time": "2022-05-28T10:27:44.271757",
     "status": "completed"
    },
    "tags": []
   },
   "outputs": [],
   "source": [
    "# Load page 1 of data and initialize the dataframes.\n",
    "jsonObj = json.loads(requests.get('https://api.osf.io/v2/institutions/uwstout/users/?format=json').text)\n",
    "metadf = pd.json_normalize(jsonObj[\"links\"])\n",
    "df = pd.json_normalize(jsonObj[\"data\"])\n",
    "\n",
    "jsonObj = json.loads(requests.get('https://api.osf.io/v2/institutions/uwstout/nodes/?format=json').text)\n",
    "metadf1 = pd.json_normalize(jsonObj[\"links\"])\n",
    "df1 = pd.json_normalize(jsonObj[\"data\"])"
   ]
  },
  {
   "cell_type": "code",
   "execution_count": 3,
   "id": "chubby-coordinate",
   "metadata": {
    "execution": {
     "iopub.execute_input": "2022-05-28T10:27:45.403023Z",
     "iopub.status.busy": "2022-05-28T10:27:45.402697Z",
     "iopub.status.idle": "2022-05-28T10:27:48.050309Z",
     "shell.execute_reply": "2022-05-28T10:27:48.049673Z"
    },
    "papermill": {
     "duration": 2.652916,
     "end_time": "2022-05-28T10:27:48.052468",
     "exception": false,
     "start_time": "2022-05-28T10:27:45.399552",
     "status": "completed"
    },
    "tags": []
   },
   "outputs": [
    {
     "name": "stderr",
     "output_type": "stream",
     "text": [
      "/tmp/ipykernel_1716/1751892706.py:6: FutureWarning: The frame.append method is deprecated and will be removed from pandas in a future version. Use pandas.concat instead.\n",
      "  df = df.append(df2)\n"
     ]
    },
    {
     "name": "stderr",
     "output_type": "stream",
     "text": [
      "/tmp/ipykernel_1716/1751892706.py:6: FutureWarning: The frame.append method is deprecated and will be removed from pandas in a future version. Use pandas.concat instead.\n",
      "  df = df.append(df2)\n"
     ]
    },
    {
     "name": "stderr",
     "output_type": "stream",
     "text": [
      "/tmp/ipykernel_1716/1751892706.py:12: FutureWarning: The frame.append method is deprecated and will be removed from pandas in a future version. Use pandas.concat instead.\n",
      "  df1 = df1.append(df2)\n"
     ]
    },
    {
     "name": "stderr",
     "output_type": "stream",
     "text": [
      "/tmp/ipykernel_1716/1751892706.py:12: FutureWarning: The frame.append method is deprecated and will be removed from pandas in a future version. Use pandas.concat instead.\n",
      "  df1 = df1.append(df2)\n"
     ]
    },
    {
     "name": "stderr",
     "output_type": "stream",
     "text": [
      "/tmp/ipykernel_1716/1751892706.py:12: FutureWarning: The frame.append method is deprecated and will be removed from pandas in a future version. Use pandas.concat instead.\n",
      "  df1 = df1.append(df2)\n"
     ]
    }
   ],
   "source": [
    "# Check for additional pages and append to dataframe.\n",
    "while metadf['next'].item() != None:\n",
    "    jsonObj = json.loads(requests.get(metadf['next'].item()).text)\n",
    "    metadf = pd.json_normalize(jsonObj[\"links\"])\n",
    "    df2 = pd.json_normalize(jsonObj[\"data\"])\n",
    "    df = df.append(df2)\n",
    "\n",
    "while metadf1['next'].item() != None:\n",
    "    jsonObj = json.loads(requests.get(metadf1['next'].item()).text)\n",
    "    metadf1 = pd.json_normalize(jsonObj[\"links\"])\n",
    "    df2 = pd.json_normalize(jsonObj[\"data\"])\n",
    "    df1 = df1.append(df2)"
   ]
  },
  {
   "cell_type": "code",
   "execution_count": 4,
   "id": "cleared-nepal",
   "metadata": {
    "execution": {
     "iopub.execute_input": "2022-05-28T10:27:48.058634Z",
     "iopub.status.busy": "2022-05-28T10:27:48.058040Z",
     "iopub.status.idle": "2022-05-28T10:27:48.071544Z",
     "shell.execute_reply": "2022-05-28T10:27:48.070917Z"
    },
    "papermill": {
     "duration": 0.018141,
     "end_time": "2022-05-28T10:27:48.073064",
     "exception": false,
     "start_time": "2022-05-28T10:27:48.054923",
     "status": "completed"
    },
    "tags": []
   },
   "outputs": [],
   "source": [
    "# Sort data by registration date and add count column.\n",
    "df['attributes.date_registered'] = pd.to_datetime(df['attributes.date_registered'])\n",
    "df = df.sort_values(by=['attributes.date_registered'], ascending=True)\n",
    "df.set_index('attributes.date_registered',inplace=True)\n",
    "df['count'] = range(1,len(df) + 1)\n",
    "countusers = df['count'][-1]\n",
    "\n",
    "df1['attributes.date_created'] = pd.to_datetime(df1['attributes.date_created'])\n",
    "df1 = df1.sort_values(by=['attributes.date_created'], ascending=True)\n",
    "df1.set_index('attributes.date_created',inplace=True)\n",
    "df1['count'] = range(1,len(df1) + 1)\n",
    "countnodes = df1['count'][-1]\n",
    "today = date.today()"
   ]
  },
  {
   "cell_type": "code",
   "execution_count": 5,
   "id": "funky-thanks",
   "metadata": {
    "execution": {
     "iopub.execute_input": "2022-05-28T10:27:48.078645Z",
     "iopub.status.busy": "2022-05-28T10:27:48.078089Z",
     "iopub.status.idle": "2022-05-28T10:27:48.086828Z",
     "shell.execute_reply": "2022-05-28T10:27:48.086243Z"
    },
    "papermill": {
     "duration": 0.013139,
     "end_time": "2022-05-28T10:27:48.088302",
     "exception": false,
     "start_time": "2022-05-28T10:27:48.075163",
     "status": "completed"
    },
    "tags": []
   },
   "outputs": [
    {
     "data": {
      "text/markdown": [
       "# As of May 28, 2022 there are <span style=\"color:red\">30</span> Open@Stout users and <span style=\"color:red\">32</span> public projects!"
      ],
      "text/plain": [
       "<IPython.core.display.Markdown object>"
      ]
     },
     "metadata": {},
     "output_type": "display_data"
    }
   ],
   "source": [
    "display(Markdown('# As of ' + today.strftime(\"%B %d, %Y\") + ' there are <span style=\\\"color:red\\\">'+ str(countusers) + '</span> Open@Stout users and <span style=\\\"color:red\\\">'+ str(countnodes) + '</span> public projects!'))"
   ]
  },
  {
   "cell_type": "code",
   "execution_count": 6,
   "id": "extra-report",
   "metadata": {
    "execution": {
     "iopub.execute_input": "2022-05-28T10:27:48.094040Z",
     "iopub.status.busy": "2022-05-28T10:27:48.093477Z",
     "iopub.status.idle": "2022-05-28T10:27:48.268412Z",
     "shell.execute_reply": "2022-05-28T10:27:48.267045Z"
    },
    "papermill": {
     "duration": 0.180001,
     "end_time": "2022-05-28T10:27:48.270435",
     "exception": false,
     "start_time": "2022-05-28T10:27:48.090434",
     "status": "completed"
    },
    "tags": []
   },
   "outputs": [
    {
     "data": {
      "image/png": "[encoded data removed]",
      "text/plain": [
       "<Figure size 864x432 with 1 Axes>"
      ]
     },
     "metadata": {
      "needs_background": "light"
     },
     "output_type": "display_data"
    }
   ],
   "source": [
    "outplot = df.plot(y='count', legend=False, grid='True', figsize=(12,6));\n",
    "outplot.set_ylabel(\"Number of registered users\");\n",
    "outplot.set_xlabel(\"Date\");"
   ]
  },
  {
   "cell_type": "code",
   "execution_count": 7,
   "id": "electoral-principle",
   "metadata": {
    "execution": {
     "iopub.execute_input": "2022-05-28T10:27:48.277112Z",
     "iopub.status.busy": "2022-05-28T10:27:48.276596Z",
     "iopub.status.idle": "2022-05-28T10:27:48.407890Z",
     "shell.execute_reply": "2022-05-28T10:27:48.407223Z"
    },
    "papermill": {
     "duration": 0.136398,
     "end_time": "2022-05-28T10:27:48.409606",
     "exception": false,
     "start_time": "2022-05-28T10:27:48.273208",
     "status": "completed"
    },
    "tags": []
   },
   "outputs": [
    {
     "data": {
      "image/png": "[encoded data removed]",
      "text/plain": [
       "<Figure size 864x432 with 1 Axes>"
      ]
     },
     "metadata": {
      "needs_background": "light"
     },
     "output_type": "display_data"
    }
   ],
   "source": [
    "outplot1 = df1.plot(y='count', legend=False, grid='True', figsize=(12,6));\n",
    "outplot1.set_ylabel(\"Number of affiliated projects\");\n",
    "outplot1.set_xlabel(\"Date\");"
   ]
  },
  {
   "cell_type": "code",
   "execution_count": 8,
   "id": "japanese-prayer",
   "metadata": {
    "execution": {
     "iopub.execute_input": "2022-05-28T10:27:48.417191Z",
     "iopub.status.busy": "2022-05-28T10:27:48.416618Z",
     "iopub.status.idle": "2022-05-28T10:27:48.421344Z",
     "shell.execute_reply": "2022-05-28T10:27:48.420833Z"
    },
    "papermill": {
     "duration": 0.010141,
     "end_time": "2022-05-28T10:27:48.422761",
     "exception": false,
     "start_time": "2022-05-28T10:27:48.412620",
     "status": "completed"
    },
    "tags": []
   },
   "outputs": [
    {
     "data": {
      "text/html": [
       "<style>\n",
       "div.input {\n",
       "    display:none;\n",
       "}\n",
       "</style>\n"
      ],
      "text/plain": [
       "<IPython.core.display.HTML object>"
      ]
     },
     "metadata": {},
     "output_type": "display_data"
    }
   ],
   "source": [
    "%%html\n",
    "<style>\n",
    "div.input {\n",
    "    display:none;\n",
    "}\n",
    "</style>"
   ]
  }
 ],
 "metadata": {
  "kernelspec": {
   "display_name": "Python 3",
   "language": "python",
   "name": "python3"
  },
  "language_info": {
   "codemirror_mode": {
    "name": "ipython",
    "version": 3
   },
   "file_extension": ".py",
   "mimetype": "text/x-python",
   "name": "python",
   "nbconvert_exporter": "python",
   "pygments_lexer": "ipython3",
   "version": "3.8.12"
  },
  "papermill": {
   "default_parameters": {},
   "duration": 7.2719,
   "end_time": "2022-05-28T10:27:48.742653",
   "environment_variables": {},
   "exception": null,
   "input_path": "OpenAtStout_dashboard.ipynb",
   "output_path": "OpenAtStout_dashboard.ipynb",
   "parameters": {},
   "start_time": "2022-05-28T10:27:41.470753",
   "version": "2.2.2"
  }
 },
 "nbformat": 4,
 "nbformat_minor": 5
}