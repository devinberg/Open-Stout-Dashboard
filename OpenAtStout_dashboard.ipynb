{
 "cells": [
  {
   "cell_type": "code",
   "execution_count": 1,
   "id": "ordered-preparation",
   "metadata": {
    "execution": {
     "iopub.execute_input": "2021-07-24T10:24:47.594938Z",
     "iopub.status.busy": "2021-07-24T10:24:47.594367Z",
     "iopub.status.idle": "2021-07-24T10:24:48.497921Z",
     "shell.execute_reply": "2021-07-24T10:24:48.498688Z"
    },
    "papermill": {
     "duration": 0.921774,
     "end_time": "2021-07-24T10:24:48.499068",
     "exception": false,
     "start_time": "2021-07-24T10:24:47.577294",
     "status": "completed"
    },
    "tags": []
   },
   "outputs": [],
   "source": [
    "import pandas as pd\n",
    "import json\n",
    "import requests\n",
    "from pandas import json_normalize\n",
    "import matplotlib.pyplot as plt\n",
    "from matplotlib import dates\n",
    "from datetime import date\n",
    "from IPython.display import display, Markdown\n",
    "%matplotlib inline"
   ]
  },
  {
   "cell_type": "code",
   "execution_count": 2,
   "id": "coordinate-deadline",
   "metadata": {
    "execution": {
     "iopub.execute_input": "2021-07-24T10:24:48.521549Z",
     "iopub.status.busy": "2021-07-24T10:24:48.520973Z",
     "iopub.status.idle": "2021-07-24T10:24:49.825762Z",
     "shell.execute_reply": "2021-07-24T10:24:49.825272Z"
    },
    "papermill": {
     "duration": 1.319664,
     "end_time": "2021-07-24T10:24:49.825891",
     "exception": false,
     "start_time": "2021-07-24T10:24:48.506227",
     "status": "completed"
    },
    "tags": []
   },
   "outputs": [],
   "source": [
    "# Load page 1 of data and initialize the dataframes.\n",
    "jsonObj = json.loads(requests.get('https://api.osf.io/v2/institutions/uwstout/users/?format=json').text)\n",
    "metadf = pd.json_normalize(jsonObj[\"links\"])\n",
    "df = pd.json_normalize(jsonObj[\"data\"])\n",
    "\n",
    "jsonObj = json.loads(requests.get('https://api.osf.io/v2/institutions/uwstout/nodes/?format=json').text)\n",
    "metadf1 = pd.json_normalize(jsonObj[\"links\"])\n",
    "df1 = pd.json_normalize(jsonObj[\"data\"])"
   ]
  },
  {
   "cell_type": "code",
   "execution_count": 3,
   "id": "chubby-coordinate",
   "metadata": {
    "execution": {
     "iopub.execute_input": "2021-07-24T10:24:49.847731Z",
     "iopub.status.busy": "2021-07-24T10:24:49.847182Z",
     "iopub.status.idle": "2021-07-24T10:24:52.276580Z",
     "shell.execute_reply": "2021-07-24T10:24:52.275673Z"
    },
    "papermill": {
     "duration": 2.444375,
     "end_time": "2021-07-24T10:24:52.276718",
     "exception": false,
     "start_time": "2021-07-24T10:24:49.832343",
     "status": "completed"
    },
    "tags": []
   },
   "outputs": [],
   "source": [
    "# Check for additional pages and append to dataframe.\n",
    "while metadf['next'].item() != None:\n",
    "    jsonObj = json.loads(requests.get(metadf['next'].item()).text)\n",
    "    metadf = pd.json_normalize(jsonObj[\"links\"])\n",
    "    df2 = pd.json_normalize(jsonObj[\"data\"])\n",
    "    df = df.append(df2)\n",
    "\n",
    "while metadf1['next'].item() != None:\n",
    "    jsonObj = json.loads(requests.get(metadf1['next'].item()).text)\n",
    "    metadf1 = pd.json_normalize(jsonObj[\"links\"])\n",
    "    df2 = pd.json_normalize(jsonObj[\"data\"])\n",
    "    df1 = df1.append(df2)"
   ]
  },
  {
   "cell_type": "code",
   "execution_count": 4,
   "id": "cleared-nepal",
   "metadata": {
    "execution": {
     "iopub.execute_input": "2021-07-24T10:24:52.297469Z",
     "iopub.status.busy": "2021-07-24T10:24:52.296920Z",
     "iopub.status.idle": "2021-07-24T10:24:52.305179Z",
     "shell.execute_reply": "2021-07-24T10:24:52.304747Z"
    },
    "papermill": {
     "duration": 0.022419,
     "end_time": "2021-07-24T10:24:52.305290",
     "exception": false,
     "start_time": "2021-07-24T10:24:52.282871",
     "status": "completed"
    },
    "tags": []
   },
   "outputs": [],
   "source": [
    "# Sort data by registration date and add count column.\n",
    "df['attributes.date_registered'] = pd.to_datetime(df['attributes.date_registered'])\n",
    "df = df.sort_values(by=['attributes.date_registered'], ascending=True)\n",
    "df.set_index('attributes.date_registered',inplace=True)\n",
    "df['count'] = range(1,len(df) + 1)\n",
    "countusers = df['count'][-1]\n",
    "\n",
    "df1['attributes.date_created'] = pd.to_datetime(df1['attributes.date_created'])\n",
    "df1 = df1.sort_values(by=['attributes.date_created'], ascending=True)\n",
    "df1.set_index('attributes.date_created',inplace=True)\n",
    "df1['count'] = range(1,len(df1) + 1)\n",
    "countnodes = df1['count'][-1]\n",
    "today = date.today()"
   ]
  },
  {
   "cell_type": "code",
   "execution_count": 5,
   "id": "funky-thanks",
   "metadata": {
    "execution": {
     "iopub.execute_input": "2021-07-24T10:24:52.323326Z",
     "iopub.status.busy": "2021-07-24T10:24:52.322789Z",
     "iopub.status.idle": "2021-07-24T10:24:52.325665Z",
     "shell.execute_reply": "2021-07-24T10:24:52.325214Z"
    },
    "papermill": {
     "duration": 0.014752,
     "end_time": "2021-07-24T10:24:52.325769",
     "exception": false,
     "start_time": "2021-07-24T10:24:52.311017",
     "status": "completed"
    },
    "tags": []
   },
   "outputs": [
    {
     "data": {
      "text/markdown": [
       "# As of July 24, 2021 there are <span style=\"color:red\">24</span> Open@Stout users and <span style=\"color:red\">31</span> public projects!"
      ],
      "text/plain": [
       "<IPython.core.display.Markdown object>"
      ]
     },
     "metadata": {},
     "output_type": "display_data"
    }
   ],
   "source": [
    "display(Markdown('# As of ' + today.strftime(\"%B %d, %Y\") + ' there are <span style=\\\"color:red\\\">'+ str(countusers) + '</span> Open@Stout users and <span style=\\\"color:red\\\">'+ str(countnodes) + '</span> public projects!'))"
   ]
  },
  {
   "cell_type": "code",
   "execution_count": 6,
   "id": "extra-report",
   "metadata": {
    "execution": {
     "iopub.execute_input": "2021-07-24T10:24:52.342160Z",
     "iopub.status.busy": "2021-07-24T10:24:52.341642Z",
     "iopub.status.idle": "2021-07-24T10:24:52.666565Z",
     "shell.execute_reply": "2021-07-24T10:24:52.666995Z"
    },
    "papermill": {
     "duration": 0.335206,
     "end_time": "2021-07-24T10:24:52.667147",
     "exception": false,
     "start_time": "2021-07-24T10:24:52.331941",
     "status": "completed"
    },
    "tags": []
   },
   "outputs": [
    {
     "data": {
      "image/png": "[encoded data removed]",
      "text/plain": [
       "<Figure size 864x432 with 1 Axes>"
      ]
     },
     "metadata": {
      "needs_background": "light"
     },
     "output_type": "display_data"
    }
   ],
   "source": [
    "outplot = df.plot(y='count', legend=False, grid='True', figsize=(12,6));\n",
    "outplot.set_ylabel(\"Number of registered users\");\n",
    "outplot.set_xlabel(\"Date\");"
   ]
  },
  {
   "cell_type": "code",
   "execution_count": 7,
   "id": "electoral-principle",
   "metadata": {
    "execution": {
     "iopub.execute_input": "2021-07-24T10:24:52.741377Z",
     "iopub.status.busy": "2021-07-24T10:24:52.685870Z",
     "iopub.status.idle": "2021-07-24T10:24:52.956862Z",
     "shell.execute_reply": "2021-07-24T10:24:52.956369Z"
    },
    "papermill": {
     "duration": 0.282579,
     "end_time": "2021-07-24T10:24:52.956984",
     "exception": false,
     "start_time": "2021-07-24T10:24:52.674405",
     "status": "completed"
    },
    "tags": []
   },
   "outputs": [
    {
     "data": {
      "image/png": "[encoded data removed]",
      "text/plain": [
       "<Figure size 864x432 with 1 Axes>"
      ]
     },
     "metadata": {
      "needs_background": "light"
     },
     "output_type": "display_data"
    }
   ],
   "source": [
    "outplot1 = df1.plot(y='count', legend=False, grid='True', figsize=(12,6));\n",
    "outplot1.set_ylabel(\"Number of affiliated projects\");\n",
    "outplot1.set_xlabel(\"Date\");"
   ]
  },
  {
   "cell_type": "code",
   "execution_count": 8,
   "id": "japanese-prayer",
   "metadata": {
    "execution": {
     "iopub.execute_input": "2021-07-24T10:24:52.978525Z",
     "iopub.status.busy": "2021-07-24T10:24:52.977995Z",
     "iopub.status.idle": "2021-07-24T10:24:52.982937Z",
     "shell.execute_reply": "2021-07-24T10:24:52.982507Z"
    },
    "papermill": {
     "duration": 0.017593,
     "end_time": "2021-07-24T10:24:52.983045",
     "exception": false,
     "start_time": "2021-07-24T10:24:52.965452",
     "status": "completed"
    },
    "tags": []
   },
   "outputs": [
    {
     "data": {
      "text/html": [
       "<style>\n",
       "div.input {\n",
       "    display:none;\n",
       "}\n",
       "</style>\n"
      ],
      "text/plain": [
       "<IPython.core.display.HTML object>"
      ]
     },
     "metadata": {},
     "output_type": "display_data"
    }
   ],
   "source": [
    "%%html\n",
    "<style>\n",
    "div.input {\n",
    "    display:none;\n",
    "}\n",
    "</style>"
   ]
  }
 ],
 "metadata": {
  "kernelspec": {
   "display_name": "Python 3",
   "language": "python",
   "name": "python3"
  },
  "language_info": {
   "codemirror_mode": {
    "name": "ipython",
    "version": 3
   },
   "file_extension": ".py",
   "mimetype": "text/x-python",
   "name": "python",
   "nbconvert_exporter": "python",
   "pygments_lexer": "ipython3",
   "version": "3.8.11"
  },
  "papermill": {
   "default_parameters": {},
   "duration": 7.015745,
   "end_time": "2021-07-24T10:24:53.199439",
   "environment_variables": {},
   "exception": null,
   "input_path": "OpenAtStout_dashboard.ipynb",
   "output_path": "OpenAtStout_dashboard.ipynb",
   "parameters": {},
   "start_time": "2021-07-24T10:24:46.183694",
   "version": "2.2.2"
  }
 },
 "nbformat": 4,
 "nbformat_minor": 5
}