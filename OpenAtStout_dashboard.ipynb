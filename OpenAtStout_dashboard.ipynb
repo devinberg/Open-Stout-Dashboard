{
 "cells": [
  {
   "cell_type": "code",
   "execution_count": 1,
   "id": "ordered-preparation",
   "metadata": {
    "execution": {
     "iopub.execute_input": "2021-04-10T10:30:09.917029Z",
     "iopub.status.busy": "2021-04-10T10:30:09.916387Z",
     "iopub.status.idle": "2021-04-10T10:30:11.006210Z",
     "shell.execute_reply": "2021-04-10T10:30:11.005167Z"
    },
    "papermill": {
     "duration": 1.108217,
     "end_time": "2021-04-10T10:30:11.006472",
     "exception": false,
     "start_time": "2021-04-10T10:30:09.898255",
     "status": "completed"
    },
    "tags": []
   },
   "outputs": [],
   "source": [
    "import pandas as pd\n",
    "import json\n",
    "import requests\n",
    "from pandas import json_normalize\n",
    "import matplotlib.pyplot as plt\n",
    "from matplotlib import dates\n",
    "from datetime import date\n",
    "from IPython.display import display, Markdown\n",
    "%matplotlib inline"
   ]
  },
  {
   "cell_type": "code",
   "execution_count": 2,
   "id": "coordinate-deadline",
   "metadata": {
    "execution": {
     "iopub.execute_input": "2021-04-10T10:30:11.028213Z",
     "iopub.status.busy": "2021-04-10T10:30:11.027626Z",
     "iopub.status.idle": "2021-04-10T10:30:12.082753Z",
     "shell.execute_reply": "2021-04-10T10:30:12.082240Z"
    },
    "papermill": {
     "duration": 1.068916,
     "end_time": "2021-04-10T10:30:12.082894",
     "exception": false,
     "start_time": "2021-04-10T10:30:11.013978",
     "status": "completed"
    },
    "tags": []
   },
   "outputs": [],
   "source": [
    "# Load page 1 of data and initialize the dataframes.\n",
    "jsonObj = json.loads(requests.get('https://api.osf.io/v2/institutions/uwstout/users/?format=json').text)\n",
    "metadf = pd.json_normalize(jsonObj[\"links\"])\n",
    "df = pd.json_normalize(jsonObj[\"data\"])\n",
    "\n",
    "jsonObj = json.loads(requests.get('https://api.osf.io/v2/institutions/uwstout/nodes/?format=json').text)\n",
    "metadf1 = pd.json_normalize(jsonObj[\"links\"])\n",
    "df1 = pd.json_normalize(jsonObj[\"data\"])"
   ]
  },
  {
   "cell_type": "code",
   "execution_count": 3,
   "id": "chubby-coordinate",
   "metadata": {
    "execution": {
     "iopub.execute_input": "2021-04-10T10:30:12.107436Z",
     "iopub.status.busy": "2021-04-10T10:30:12.106866Z",
     "iopub.status.idle": "2021-04-10T10:30:14.500329Z",
     "shell.execute_reply": "2021-04-10T10:30:14.499335Z"
    },
    "papermill": {
     "duration": 2.408669,
     "end_time": "2021-04-10T10:30:14.500470",
     "exception": false,
     "start_time": "2021-04-10T10:30:12.091801",
     "status": "completed"
    },
    "tags": []
   },
   "outputs": [],
   "source": [
    "# Check for additional pages and append to dataframe.\n",
    "while metadf['next'].item() != None:\n",
    "    jsonObj = json.loads(requests.get(metadf['next'].item()).text)\n",
    "    metadf = pd.json_normalize(jsonObj[\"links\"])\n",
    "    df2 = pd.json_normalize(jsonObj[\"data\"])\n",
    "    df = df.append(df2)\n",
    "\n",
    "while metadf1['next'].item() != None:\n",
    "    jsonObj = json.loads(requests.get(metadf1['next'].item()).text)\n",
    "    metadf1 = pd.json_normalize(jsonObj[\"links\"])\n",
    "    df2 = pd.json_normalize(jsonObj[\"data\"])\n",
    "    df1 = df1.append(df2)"
   ]
  },
  {
   "cell_type": "code",
   "execution_count": 4,
   "id": "cleared-nepal",
   "metadata": {
    "execution": {
     "iopub.execute_input": "2021-04-10T10:30:14.522957Z",
     "iopub.status.busy": "2021-04-10T10:30:14.522204Z",
     "iopub.status.idle": "2021-04-10T10:30:14.533472Z",
     "shell.execute_reply": "2021-04-10T10:30:14.532830Z"
    },
    "papermill": {
     "duration": 0.026656,
     "end_time": "2021-04-10T10:30:14.533594",
     "exception": false,
     "start_time": "2021-04-10T10:30:14.506938",
     "status": "completed"
    },
    "tags": []
   },
   "outputs": [],
   "source": [
    "# Sort data by registration date and add count column.\n",
    "df['attributes.date_registered'] = pd.to_datetime(df['attributes.date_registered'])\n",
    "df = df.sort_values(by=['attributes.date_registered'], ascending=True)\n",
    "df.set_index('attributes.date_registered',inplace=True)\n",
    "df['count'] = range(1,len(df) + 1)\n",
    "countusers = df['count'][-1]\n",
    "\n",
    "df1['attributes.date_created'] = pd.to_datetime(df1['attributes.date_created'])\n",
    "df1 = df1.sort_values(by=['attributes.date_created'], ascending=True)\n",
    "df1.set_index('attributes.date_created',inplace=True)\n",
    "df1['count'] = range(1,len(df1) + 1)\n",
    "countnodes = df1['count'][-1]\n",
    "today = date.today()"
   ]
  },
  {
   "cell_type": "code",
   "execution_count": 5,
   "id": "funky-thanks",
   "metadata": {
    "execution": {
     "iopub.execute_input": "2021-04-10T10:30:14.554149Z",
     "iopub.status.busy": "2021-04-10T10:30:14.553525Z",
     "iopub.status.idle": "2021-04-10T10:30:14.556219Z",
     "shell.execute_reply": "2021-04-10T10:30:14.556711Z"
    },
    "papermill": {
     "duration": 0.016647,
     "end_time": "2021-04-10T10:30:14.556856",
     "exception": false,
     "start_time": "2021-04-10T10:30:14.540209",
     "status": "completed"
    },
    "tags": []
   },
   "outputs": [
    {
     "data": {
      "text/markdown": [
       "# As of April 10, 2021 there are <span style=\"color:red\">23</span> Open@Stout users and <span style=\"color:red\">31</span> public projects!"
      ],
      "text/plain": [
       "<IPython.core.display.Markdown object>"
      ]
     },
     "metadata": {},
     "output_type": "display_data"
    }
   ],
   "source": [
    "display(Markdown('# As of ' + today.strftime(\"%B %d, %Y\") + ' there are <span style=\\\"color:red\\\">'+ str(countusers) + '</span> Open@Stout users and <span style=\\\"color:red\\\">'+ str(countnodes) + '</span> public projects!'))"
   ]
  },
  {
   "cell_type": "code",
   "execution_count": 6,
   "id": "extra-report",
   "metadata": {
    "execution": {
     "iopub.execute_input": "2021-04-10T10:30:14.574780Z",
     "iopub.status.busy": "2021-04-10T10:30:14.574063Z",
     "iopub.status.idle": "2021-04-10T10:30:14.817999Z",
     "shell.execute_reply": "2021-04-10T10:30:14.818484Z"
    },
    "papermill": {
     "duration": 0.254742,
     "end_time": "2021-04-10T10:30:14.818684",
     "exception": false,
     "start_time": "2021-04-10T10:30:14.563942",
     "status": "completed"
    },
    "tags": []
   },
   "outputs": [
    {
     "data": {
      "image/png": "[encoded data removed]",
      "text/plain": [
       "<Figure size 864x432 with 1 Axes>"
      ]
     },
     "metadata": {
      "needs_background": "light"
     },
     "output_type": "display_data"
    }
   ],
   "source": [
    "outplot = df.plot(y='count', legend=False, grid='True', figsize=(12,6));\n",
    "outplot.set_ylabel(\"Number of registered users\");\n",
    "outplot.set_xlabel(\"Date\");"
   ]
  },
  {
   "cell_type": "code",
   "execution_count": 7,
   "id": "electoral-principle",
   "metadata": {
    "execution": {
     "iopub.execute_input": "2021-04-10T10:30:14.868417Z",
     "iopub.status.busy": "2021-04-10T10:30:14.860024Z",
     "iopub.status.idle": "2021-04-10T10:30:15.110335Z",
     "shell.execute_reply": "2021-04-10T10:30:15.109735Z"
    },
    "papermill": {
     "duration": 0.283317,
     "end_time": "2021-04-10T10:30:15.110470",
     "exception": false,
     "start_time": "2021-04-10T10:30:14.827153",
     "status": "completed"
    },
    "tags": []
   },
   "outputs": [
    {
     "data": {
      "image/png": "[encoded data removed]",
      "text/plain": [
       "<Figure size 864x432 with 1 Axes>"
      ]
     },
     "metadata": {
      "needs_background": "light"
     },
     "output_type": "display_data"
    }
   ],
   "source": [
    "outplot1 = df1.plot(y='count', legend=False, grid='True', figsize=(12,6));\n",
    "outplot1.set_ylabel(\"Number of affiliated projects\");\n",
    "outplot1.set_xlabel(\"Date\");"
   ]
  },
  {
   "cell_type": "code",
   "execution_count": 8,
   "id": "japanese-prayer",
   "metadata": {
    "execution": {
     "iopub.execute_input": "2021-04-10T10:30:15.136735Z",
     "iopub.status.busy": "2021-04-10T10:30:15.136089Z",
     "iopub.status.idle": "2021-04-10T10:30:15.142448Z",
     "shell.execute_reply": "2021-04-10T10:30:15.141909Z"
    },
    "papermill": {
     "duration": 0.020919,
     "end_time": "2021-04-10T10:30:15.142574",
     "exception": false,
     "start_time": "2021-04-10T10:30:15.121655",
     "status": "completed"
    },
    "tags": []
   },
   "outputs": [
    {
     "data": {
      "text/html": [
       "<style>\n",
       "div.input {\n",
       "    display:none;\n",
       "}\n",
       "</style>\n"
      ],
      "text/plain": [
       "<IPython.core.display.HTML object>"
      ]
     },
     "metadata": {},
     "output_type": "display_data"
    }
   ],
   "source": [
    "%%html\n",
    "<style>\n",
    "div.input {\n",
    "    display:none;\n",
    "}\n",
    "</style>"
   ]
  }
 ],
 "metadata": {
  "kernelspec": {
   "display_name": "Python 3",
   "language": "python",
   "name": "python3"
  },
  "language_info": {
   "codemirror_mode": {
    "name": "ipython",
    "version": 3
   },
   "file_extension": ".py",
   "mimetype": "text/x-python",
   "name": "python",
   "nbconvert_exporter": "python",
   "pygments_lexer": "ipython3",
   "version": "3.8.8"
  },
  "papermill": {
   "default_parameters": {},
   "duration": 6.965335,
   "end_time": "2021-04-10T10:30:15.459609",
   "environment_variables": {},
   "exception": null,
   "input_path": "OpenAtStout_dashboard.ipynb",
   "output_path": "OpenAtStout_dashboard.ipynb",
   "parameters": {},
   "start_time": "2021-04-10T10:30:08.494274",
   "version": "2.2.2"
  }
 },
 "nbformat": 4,
 "nbformat_minor": 5
}