{
 "cells": [
  {
   "cell_type": "code",
   "execution_count": null,
   "id": "ordered-preparation",
   "metadata": {
    "execution": {
     "iopub.execute_input": "2022-06-18T10:25:08.036414Z",
     "iopub.status.busy": "2022-06-18T10:25:08.035835Z",
     "iopub.status.idle": "2022-06-18T10:25:11.867965Z",
     "shell.execute_reply": "2022-06-18T10:25:11.867238Z"
    },
    "papermill": {
     "duration": 3.838297,
     "end_time": "2022-06-18T10:25:11.869938",
     "exception": false,
     "start_time": "2022-06-18T10:25:08.031641",
     "status": "completed"
    },
    "tags": []
   },
   "outputs": [],
   "source": [
    "import pandas as pd\n",
    "import json\n",
    "import requests\n",
    "from pandas import json_normalize\n",
    "import matplotlib.pyplot as plt\n",
    "from matplotlib import dates\n",
    "from datetime import date\n",
    "from IPython.display import display, Markdown\n",
    "%matplotlib inline"
   ]
  },
  {
   "cell_type": "code",
   "execution_count": null,
   "id": "coordinate-deadline",
   "metadata": {
    "execution": {
     "iopub.execute_input": "2022-06-18T10:25:11.875972Z",
     "iopub.status.busy": "2022-06-18T10:25:11.875132Z",
     "iopub.status.idle": "2022-06-18T10:25:13.084059Z",
     "shell.execute_reply": "2022-06-18T10:25:13.083407Z"
    },
    "papermill": {
     "duration": 1.213652,
     "end_time": "2022-06-18T10:25:13.085873",
     "exception": false,
     "start_time": "2022-06-18T10:25:11.872221",
     "status": "completed"
    },
    "tags": []
   },
   "outputs": [],
   "source": [
    "# Load page 1 of data and initialize the dataframes.\n",
    "jsonObj = json.loads(requests.get('https://api.osf.io/v2/institutions/uwstout/users/?format=json').text)\n",
    "metadf = pd.json_normalize(jsonObj[\"links\"])\n",
    "df = pd.json_normalize(jsonObj[\"data\"])\n",
    "\n",
    "jsonObj = json.loads(requests.get('https://api.osf.io/v2/institutions/uwstout/nodes/?format=json').text)\n",
    "metadf1 = pd.json_normalize(jsonObj[\"links\"])\n",
    "df1 = pd.json_normalize(jsonObj[\"data\"])"
   ]
  },
  {
   "cell_type": "code",
   "execution_count": null,
   "id": "chubby-coordinate",
   "metadata": {
    "execution": {
     "iopub.execute_input": "2022-06-18T10:25:13.091374Z",
     "iopub.status.busy": "2022-06-18T10:25:13.090814Z",
     "iopub.status.idle": "2022-06-18T10:25:15.760430Z",
     "shell.execute_reply": "2022-06-18T10:25:15.759896Z"
    },
    "papermill": {
     "duration": 2.674023,
     "end_time": "2022-06-18T10:25:15.762001",
     "exception": false,
     "start_time": "2022-06-18T10:25:13.087978",
     "status": "completed"
    },
    "tags": []
   },
   "outputs": [],
   "source": [
    "# Check for additional pages and append to dataframe.\n",
    "while metadf['next'].item() != None:\n",
    "    jsonObj = json.loads(requests.get(metadf['next'].item()).text)\n",
    "    metadf = pd.json_normalize(jsonObj[\"links\"])\n",
    "    df2 = pd.json_normalize(jsonObj[\"data\"])\n",
    "    df = pd.concat([df, df2], join=\"inner\")\n",
    "\n",
    "while metadf1['next'].item() != None:\n",
    "    jsonObj = json.loads(requests.get(metadf1['next'].item()).text)\n",
    "    metadf1 = pd.json_normalize(jsonObj[\"links\"])\n",
    "    df2 = pd.json_normalize(jsonObj[\"data\"])\n",
    "    df1 = pd.concat([df1, df2], join=\"inner\")"
   ]
  },
  {
   "cell_type": "code",
   "execution_count": null,
   "id": "cleared-nepal",
   "metadata": {
    "execution": {
     "iopub.execute_input": "2022-06-18T10:25:15.767839Z",
     "iopub.status.busy": "2022-06-18T10:25:15.767611Z",
     "iopub.status.idle": "2022-06-18T10:25:15.780659Z",
     "shell.execute_reply": "2022-06-18T10:25:15.780052Z"
    },
    "papermill": {
     "duration": 0.017677,
     "end_time": "2022-06-18T10:25:15.782076",
     "exception": false,
     "start_time": "2022-06-18T10:25:15.764399",
     "status": "completed"
    },
    "tags": []
   },
   "outputs": [],
   "source": [
    "# Sort data by registration date and add count column.\n",
    "df['attributes.date_registered'] = pd.to_datetime(df['attributes.date_registered'])\n",
    "df = df.sort_values(by=['attributes.date_registered'], ascending=True)\n",
    "df.set_index('attributes.date_registered',inplace=True)\n",
    "df['count'] = range(1,len(df) + 1)\n",
    "countusers = df['count'][-1]\n",
    "\n",
    "df1['attributes.date_created'] = pd.to_datetime(df1['attributes.date_created'])\n",
    "df1 = df1.sort_values(by=['attributes.date_created'], ascending=True)\n",
    "df1.set_index('attributes.date_created',inplace=True)\n",
    "df1['count'] = range(1,len(df1) + 1)\n",
    "countnodes = df1['count'][-1]\n",
    "today = date.today()\n",
    "df1"
   ]
  },
  {
   "cell_type": "code",
   "execution_count": null,
   "id": "funky-thanks",
   "metadata": {
    "execution": {
     "iopub.execute_input": "2022-06-18T10:25:15.787848Z",
     "iopub.status.busy": "2022-06-18T10:25:15.787224Z",
     "iopub.status.idle": "2022-06-18T10:25:15.793637Z",
     "shell.execute_reply": "2022-06-18T10:25:15.793041Z"
    },
    "papermill": {
     "duration": 0.010738,
     "end_time": "2022-06-18T10:25:15.795095",
     "exception": false,
     "start_time": "2022-06-18T10:25:15.784357",
     "status": "completed"
    },
    "tags": []
   },
   "outputs": [],
   "source": [
    "display(Markdown('# As of ' + today.strftime(\"%B %d, %Y\") + ' there are <span style=\\\"color:red\\\">'+ str(countusers) + '</span> Open@Stout users and <span style=\\\"color:red\\\">'+ str(countnodes) + '</span> public projects!'))"
   ]
  },
  {
   "cell_type": "code",
   "execution_count": null,
   "id": "extra-report",
   "metadata": {
    "execution": {
     "iopub.execute_input": "2022-06-18T10:25:15.800793Z",
     "iopub.status.busy": "2022-06-18T10:25:15.800572Z",
     "iopub.status.idle": "2022-06-18T10:25:16.027118Z",
     "shell.execute_reply": "2022-06-18T10:25:16.026495Z"
    },
    "papermill": {
     "duration": 0.231538,
     "end_time": "2022-06-18T10:25:16.028830",
     "exception": false,
     "start_time": "2022-06-18T10:25:15.797292",
     "status": "completed"
    },
    "tags": []
   },
   "outputs": [],
   "source": [
    "outplot = df.plot(y='count', legend=False, grid='True', figsize=(12,6));\n",
    "outplot.set_ylabel(\"Number of registered users\");\n",
    "outplot.set_xlabel(\"Date\");"
   ]
  },
  {
   "cell_type": "code",
   "execution_count": null,
   "id": "electoral-principle",
   "metadata": {
    "execution": {
     "iopub.execute_input": "2022-06-18T10:25:16.035562Z",
     "iopub.status.busy": "2022-06-18T10:25:16.035308Z",
     "iopub.status.idle": "2022-06-18T10:25:16.164201Z",
     "shell.execute_reply": "2022-06-18T10:25:16.163595Z"
    },
    "papermill": {
     "duration": 0.134339,
     "end_time": "2022-06-18T10:25:16.165986",
     "exception": false,
     "start_time": "2022-06-18T10:25:16.031647",
     "status": "completed"
    },
    "tags": []
   },
   "outputs": [],
   "source": [
    "outplot1 = df1.plot(y='count', legend=False, grid='True', figsize=(12,6));\n",
    "outplot1.set_ylabel(\"Number of affiliated projects\");\n",
    "outplot1.set_xlabel(\"Date\");"
   ]
  },
  {
   "cell_type": "code",
   "execution_count": null,
   "id": "japanese-prayer",
   "metadata": {
    "execution": {
     "iopub.execute_input": "2022-06-18T10:25:16.173379Z",
     "iopub.status.busy": "2022-06-18T10:25:16.172933Z",
     "iopub.status.idle": "2022-06-18T10:25:16.177686Z",
     "shell.execute_reply": "2022-06-18T10:25:16.177073Z"
    },
    "papermill": {
     "duration": 0.009999,
     "end_time": "2022-06-18T10:25:16.179099",
     "exception": false,
     "start_time": "2022-06-18T10:25:16.169100",
     "status": "completed"
    },
    "tags": []
   },
   "outputs": [],
   "source": [
    "%%html\n",
    "<style>\n",
    "div.input {\n",
    "    display:none;\n",
    "}\n",
    "</style>"
   ]
  }
 ],
 "metadata": {
  "kernelspec": {
   "display_name": "Python 3 (ipykernel)",
   "language": "python",
   "name": "python3"
  },
  "language_info": {
   "codemirror_mode": {
    "name": "ipython",
    "version": 3
   },
   "file_extension": ".py",
   "mimetype": "text/x-python",
   "name": "python",
   "nbconvert_exporter": "python",
   "pygments_lexer": "ipython3",
   "version": "3.7.12"
  },
  "papermill": {
   "default_parameters": {},
   "duration": 10.980748,
   "end_time": "2022-06-18T10:25:16.397809",
   "environment_variables": {},
   "exception": null,
   "input_path": "OpenAtStout_dashboard.ipynb",
   "output_path": "OpenAtStout_dashboard.ipynb",
   "parameters": {},
   "start_time": "2022-06-18T10:25:05.417061",
   "version": "2.2.2"
  }
 },
 "nbformat": 4,
 "nbformat_minor": 5
}
