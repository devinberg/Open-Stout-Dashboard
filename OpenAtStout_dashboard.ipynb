{
 "cells": [
  {
   "cell_type": "code",
   "execution_count": 1,
   "id": "ordered-preparation",
   "metadata": {
    "execution": {
     "iopub.execute_input": "2022-07-02T10:25:49.199382Z",
     "iopub.status.busy": "2022-07-02T10:25:49.198548Z",
     "iopub.status.idle": "2022-07-02T10:25:51.929519Z",
     "shell.execute_reply": "2022-07-02T10:25:51.928616Z"
    },
    "papermill": {
     "duration": 2.738167,
     "end_time": "2022-07-02T10:25:51.932142",
     "exception": false,
     "start_time": "2022-07-02T10:25:49.193975",
     "status": "completed"
    },
    "tags": []
   },
   "outputs": [],
   "source": [
    "import pandas as pd\n",
    "import json\n",
    "import requests\n",
    "from pandas import json_normalize\n",
    "import matplotlib.pyplot as plt\n",
    "from matplotlib import dates\n",
    "from datetime import date\n",
    "from IPython.display import display, Markdown\n",
    "%matplotlib inline"
   ]
  },
  {
   "cell_type": "code",
   "execution_count": 2,
   "id": "coordinate-deadline",
   "metadata": {
    "execution": {
     "iopub.execute_input": "2022-07-02T10:25:51.937976Z",
     "iopub.status.busy": "2022-07-02T10:25:51.937397Z",
     "iopub.status.idle": "2022-07-02T10:25:52.875515Z",
     "shell.execute_reply": "2022-07-02T10:25:52.874776Z"
    },
    "papermill": {
     "duration": 0.943107,
     "end_time": "2022-07-02T10:25:52.877538",
     "exception": false,
     "start_time": "2022-07-02T10:25:51.934431",
     "status": "completed"
    },
    "tags": []
   },
   "outputs": [],
   "source": [
    "# Load page 1 of data and initialize the dataframes.\n",
    "jsonObj = json.loads(requests.get('https://api.osf.io/v2/institutions/uwstout/users/?format=json').text)\n",
    "metadf = pd.json_normalize(jsonObj[\"links\"])\n",
    "df = pd.json_normalize(jsonObj[\"data\"])\n",
    "\n",
    "jsonObj = json.loads(requests.get('https://api.osf.io/v2/institutions/uwstout/nodes/?format=json').text)\n",
    "metadf1 = pd.json_normalize(jsonObj[\"links\"])\n",
    "df1 = pd.json_normalize(jsonObj[\"data\"])"
   ]
  },
  {
   "cell_type": "code",
   "execution_count": 3,
   "id": "chubby-coordinate",
   "metadata": {
    "execution": {
     "iopub.execute_input": "2022-07-02T10:25:52.883354Z",
     "iopub.status.busy": "2022-07-02T10:25:52.882881Z",
     "iopub.status.idle": "2022-07-02T10:25:55.381394Z",
     "shell.execute_reply": "2022-07-02T10:25:55.380668Z"
    },
    "papermill": {
     "duration": 2.50391,
     "end_time": "2022-07-02T10:25:55.383553",
     "exception": false,
     "start_time": "2022-07-02T10:25:52.879643",
     "status": "completed"
    },
    "tags": []
   },
   "outputs": [],
   "source": [
    "# Check for additional pages and append to dataframe.\n",
    "while metadf['next'].item() != None:\n",
    "    jsonObj = json.loads(requests.get(metadf['next'].item()).text)\n",
    "    metadf = pd.json_normalize(jsonObj[\"links\"])\n",
    "    df2 = pd.json_normalize(jsonObj[\"data\"])\n",
    "    df = pd.concat([df, df2], join=\"inner\")\n",
    "\n",
    "while metadf1['next'].item() != None:\n",
    "    jsonObj = json.loads(requests.get(metadf1['next'].item()).text)\n",
    "    metadf1 = pd.json_normalize(jsonObj[\"links\"])\n",
    "    df2 = pd.json_normalize(jsonObj[\"data\"])\n",
    "    df1 = pd.concat([df1, df2], join=\"inner\")"
   ]
  },
  {
   "cell_type": "code",
   "execution_count": 4,
   "id": "cleared-nepal",
   "metadata": {
    "execution": {
     "iopub.execute_input": "2022-07-02T10:25:55.389716Z",
     "iopub.status.busy": "2022-07-02T10:25:55.389467Z",
     "iopub.status.idle": "2022-07-02T10:25:55.403192Z",
     "shell.execute_reply": "2022-07-02T10:25:55.402401Z"
    },
    "papermill": {
     "duration": 0.018885,
     "end_time": "2022-07-02T10:25:55.404887",
     "exception": false,
     "start_time": "2022-07-02T10:25:55.386002",
     "status": "completed"
    },
    "tags": []
   },
   "outputs": [],
   "source": [
    "# Sort data by registration date and add count column.\n",
    "df['attributes.date_registered'] = pd.to_datetime(df['attributes.date_registered'])\n",
    "df = df.sort_values(by=['attributes.date_registered'], ascending=True)\n",
    "df.set_index('attributes.date_registered',inplace=True)\n",
    "df['count'] = range(1,len(df) + 1)\n",
    "countusers = df['count'][-1]\n",
    "\n",
    "df1['attributes.date_created'] = pd.to_datetime(df1['attributes.date_created'])\n",
    "df1 = df1.sort_values(by=['attributes.date_created'], ascending=True)\n",
    "df1.set_index('attributes.date_created',inplace=True)\n",
    "df1['count'] = range(1,len(df1) + 1)\n",
    "countnodes = df1['count'][-1]\n",
    "today = date.today()"
   ]
  },
  {
   "cell_type": "code",
   "execution_count": 5,
   "id": "funky-thanks",
   "metadata": {
    "execution": {
     "iopub.execute_input": "2022-07-02T10:25:55.409862Z",
     "iopub.status.busy": "2022-07-02T10:25:55.409491Z",
     "iopub.status.idle": "2022-07-02T10:25:55.416025Z",
     "shell.execute_reply": "2022-07-02T10:25:55.415371Z"
    },
    "papermill": {
     "duration": 0.012302,
     "end_time": "2022-07-02T10:25:55.418986",
     "exception": false,
     "start_time": "2022-07-02T10:25:55.406684",
     "status": "completed"
    },
    "tags": []
   },
   "outputs": [
    {
     "data": {
      "text/markdown": [
       "# As of July 02, 2022 there are <span style=\"color:red\">32</span> Open@Stout users and <span style=\"color:red\">32</span> public projects!"
      ],
      "text/plain": [
       "<IPython.core.display.Markdown object>"
      ]
     },
     "metadata": {},
     "output_type": "display_data"
    }
   ],
   "source": [
    "display(Markdown('# As of ' + today.strftime(\"%B %d, %Y\") + ' there are <span style=\\\"color:red\\\">'+ str(countusers) + '</span> Open@Stout users and <span style=\\\"color:red\\\">'+ str(countnodes) + '</span> public projects!'))"
   ]
  },
  {
   "cell_type": "code",
   "execution_count": 6,
   "id": "extra-report",
   "metadata": {
    "execution": {
     "iopub.execute_input": "2022-07-02T10:25:55.424296Z",
     "iopub.status.busy": "2022-07-02T10:25:55.423743Z",
     "iopub.status.idle": "2022-07-02T10:25:55.593714Z",
     "shell.execute_reply": "2022-07-02T10:25:55.592973Z"
    },
    "papermill": {
     "duration": 0.174639,
     "end_time": "2022-07-02T10:25:55.595585",
     "exception": false,
     "start_time": "2022-07-02T10:25:55.420946",
     "status": "completed"
    },
    "tags": []
   },
   "outputs": [
    {
     "data": {
      "image/png": "[encoded data removed]",
      "text/plain": [
       "<Figure size 864x432 with 1 Axes>"
      ]
     },
     "metadata": {
      "needs_background": "light"
     },
     "output_type": "display_data"
    }
   ],
   "source": [
    "outplot = df.plot(y='count', legend=False, grid='True', figsize=(12,6));\n",
    "outplot.set_ylabel(\"Number of registered users\");\n",
    "outplot.set_xlabel(\"Date\");"
   ]
  },
  {
   "cell_type": "code",
   "execution_count": 7,
   "id": "electoral-principle",
   "metadata": {
    "execution": {
     "iopub.execute_input": "2022-07-02T10:25:55.603152Z",
     "iopub.status.busy": "2022-07-02T10:25:55.602665Z",
     "iopub.status.idle": "2022-07-02T10:25:55.732951Z",
     "shell.execute_reply": "2022-07-02T10:25:55.732270Z"
    },
    "papermill": {
     "duration": 0.136346,
     "end_time": "2022-07-02T10:25:55.734851",
     "exception": false,
     "start_time": "2022-07-02T10:25:55.598505",
     "status": "completed"
    },
    "tags": []
   },
   "outputs": [
    {
     "data": {
      "image/png": "[encoded data removed]",
      "text/plain": [
       "<Figure size 864x432 with 1 Axes>"
      ]
     },
     "metadata": {
      "needs_background": "light"
     },
     "output_type": "display_data"
    }
   ],
   "source": [
    "outplot1 = df1.plot(y='count', legend=False, grid='True', figsize=(12,6));\n",
    "outplot1.set_ylabel(\"Number of affiliated projects\");\n",
    "outplot1.set_xlabel(\"Date\");"
   ]
  },
  {
   "cell_type": "code",
   "execution_count": 8,
   "id": "japanese-prayer",
   "metadata": {
    "execution": {
     "iopub.execute_input": "2022-07-02T10:25:55.742171Z",
     "iopub.status.busy": "2022-07-02T10:25:55.741572Z",
     "iopub.status.idle": "2022-07-02T10:25:55.748602Z",
     "shell.execute_reply": "2022-07-02T10:25:55.747964Z"
    },
    "papermill": {
     "duration": 0.012328,
     "end_time": "2022-07-02T10:25:55.750282",
     "exception": false,
     "start_time": "2022-07-02T10:25:55.737954",
     "status": "completed"
    },
    "tags": []
   },
   "outputs": [
    {
     "data": {
      "text/html": [
       "<style>\n",
       "div.input {\n",
       "    display:none;\n",
       "}\n",
       "</style>\n"
      ],
      "text/plain": [
       "<IPython.core.display.HTML object>"
      ]
     },
     "metadata": {},
     "output_type": "display_data"
    }
   ],
   "source": [
    "%%html\n",
    "<style>\n",
    "div.input {\n",
    "    display:none;\n",
    "}\n",
    "</style>"
   ]
  }
 ],
 "metadata": {
  "kernelspec": {
   "display_name": "Python 3 (ipykernel)",
   "language": "python",
   "name": "python3"
  },
  "language_info": {
   "codemirror_mode": {
    "name": "ipython",
    "version": 3
   },
   "file_extension": ".py",
   "mimetype": "text/x-python",
   "name": "python",
   "nbconvert_exporter": "python",
   "pygments_lexer": "ipython3",
   "version": "3.8.13"
  },
  "papermill": {
   "default_parameters": {},
   "duration": 8.873219,
   "end_time": "2022-07-02T10:25:55.969582",
   "environment_variables": {},
   "exception": null,
   "input_path": "OpenAtStout_dashboard.ipynb",
   "output_path": "OpenAtStout_dashboard.ipynb",
   "parameters": {},
   "start_time": "2022-07-02T10:25:47.096363",
   "version": "2.2.2"
  }
 },
 "nbformat": 4,
 "nbformat_minor": 5
}