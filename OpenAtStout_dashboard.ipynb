{
 "cells": [
  {
   "cell_type": "code",
   "execution_count": 1,
   "id": "ordered-preparation",
   "metadata": {
    "execution": {
     "iopub.execute_input": "2021-01-23T11:00:20.149587Z",
     "iopub.status.busy": "2021-01-23T11:00:20.149004Z",
     "iopub.status.idle": "2021-01-23T11:00:21.290683Z",
     "shell.execute_reply": "2021-01-23T11:00:21.290103Z"
    },
    "papermill": {
     "duration": 1.160119,
     "end_time": "2021-01-23T11:00:21.290871",
     "exception": false,
     "start_time": "2021-01-23T11:00:20.130752",
     "status": "completed"
    },
    "tags": []
   },
   "outputs": [],
   "source": [
    "import pandas as pd\n",
    "import json\n",
    "import requests\n",
    "from pandas import json_normalize\n",
    "import matplotlib.pyplot as plt\n",
    "from matplotlib import dates\n",
    "from datetime import date\n",
    "from IPython.display import display, Markdown\n",
    "%matplotlib inline"
   ]
  },
  {
   "cell_type": "code",
   "execution_count": 2,
   "id": "coordinate-deadline",
   "metadata": {
    "execution": {
     "iopub.execute_input": "2021-01-23T11:00:21.309534Z",
     "iopub.status.busy": "2021-01-23T11:00:21.307600Z",
     "iopub.status.idle": "2021-01-23T11:00:22.868731Z",
     "shell.execute_reply": "2021-01-23T11:00:22.869510Z"
    },
    "papermill": {
     "duration": 1.572505,
     "end_time": "2021-01-23T11:00:22.869775",
     "exception": false,
     "start_time": "2021-01-23T11:00:21.297270",
     "status": "completed"
    },
    "tags": []
   },
   "outputs": [],
   "source": [
    "# Load page 1 of data and initialize the dataframes.\n",
    "jsonObj = json.loads(requests.get('https://api.osf.io/v2/institutions/uwstout/users/?format=json').text)\n",
    "metadf = pd.json_normalize(jsonObj[\"links\"])\n",
    "df = pd.json_normalize(jsonObj[\"data\"])\n",
    "\n",
    "jsonObj = json.loads(requests.get('https://api.osf.io/v2/institutions/uwstout/nodes/?format=json').text)\n",
    "metadf1 = pd.json_normalize(jsonObj[\"links\"])\n",
    "df1 = pd.json_normalize(jsonObj[\"data\"])"
   ]
  },
  {
   "cell_type": "code",
   "execution_count": 3,
   "id": "chubby-coordinate",
   "metadata": {
    "execution": {
     "iopub.execute_input": "2021-01-23T11:00:22.890239Z",
     "iopub.status.busy": "2021-01-23T11:00:22.889690Z",
     "iopub.status.idle": "2021-01-23T11:00:26.371460Z",
     "shell.execute_reply": "2021-01-23T11:00:26.370640Z"
    },
    "papermill": {
     "duration": 3.495731,
     "end_time": "2021-01-23T11:00:26.371679",
     "exception": false,
     "start_time": "2021-01-23T11:00:22.875948",
     "status": "completed"
    },
    "tags": []
   },
   "outputs": [],
   "source": [
    "# Check for additional pages and append to dataframe.\n",
    "while metadf['next'].item() != None:\n",
    "    jsonObj = json.loads(requests.get(metadf['next'].item()).text)\n",
    "    metadf = pd.json_normalize(jsonObj[\"links\"])\n",
    "    df2 = pd.json_normalize(jsonObj[\"data\"])\n",
    "    df = df.append(df2)\n",
    "\n",
    "while metadf1['next'].item() != None:\n",
    "    jsonObj = json.loads(requests.get(metadf1['next'].item()).text)\n",
    "    metadf1 = pd.json_normalize(jsonObj[\"links\"])\n",
    "    df2 = pd.json_normalize(jsonObj[\"data\"])\n",
    "    df1 = df1.append(df2)"
   ]
  },
  {
   "cell_type": "code",
   "execution_count": 4,
   "id": "cleared-nepal",
   "metadata": {
    "execution": {
     "iopub.execute_input": "2021-01-23T11:00:26.397075Z",
     "iopub.status.busy": "2021-01-23T11:00:26.393429Z",
     "iopub.status.idle": "2021-01-23T11:00:26.403334Z",
     "shell.execute_reply": "2021-01-23T11:00:26.402878Z"
    },
    "papermill": {
     "duration": 0.023193,
     "end_time": "2021-01-23T11:00:26.403455",
     "exception": false,
     "start_time": "2021-01-23T11:00:26.380262",
     "status": "completed"
    },
    "tags": []
   },
   "outputs": [],
   "source": [
    "# Sort data by registration date and add count column.\n",
    "df['attributes.date_registered'] = pd.to_datetime(df['attributes.date_registered'])\n",
    "df = df.sort_values(by=['attributes.date_registered'], ascending=True)\n",
    "df.set_index('attributes.date_registered',inplace=True)\n",
    "df['count'] = range(1,len(df) + 1)\n",
    "countusers = df['count'][-1]\n",
    "\n",
    "df1['attributes.date_created'] = pd.to_datetime(df1['attributes.date_created'])\n",
    "df1 = df1.sort_values(by=['attributes.date_created'], ascending=True)\n",
    "df1.set_index('attributes.date_created',inplace=True)\n",
    "df1['count'] = range(1,len(df1) + 1)\n",
    "countnodes = df1['count'][-1]\n",
    "today = date.today()"
   ]
  },
  {
   "cell_type": "code",
   "execution_count": 5,
   "id": "funky-thanks",
   "metadata": {
    "execution": {
     "iopub.execute_input": "2021-01-23T11:00:26.421370Z",
     "iopub.status.busy": "2021-01-23T11:00:26.420820Z",
     "iopub.status.idle": "2021-01-23T11:00:26.423776Z",
     "shell.execute_reply": "2021-01-23T11:00:26.423341Z"
    },
    "papermill": {
     "duration": 0.014534,
     "end_time": "2021-01-23T11:00:26.423897",
     "exception": false,
     "start_time": "2021-01-23T11:00:26.409363",
     "status": "completed"
    },
    "tags": []
   },
   "outputs": [
    {
     "data": {
      "text/markdown": [
       "# As of January 23, 2021 there are <span style=\"color:red\">20</span> Open@Stout users and <span style=\"color:red\">31</span> public projects!"
      ],
      "text/plain": [
       "<IPython.core.display.Markdown object>"
      ]
     },
     "metadata": {},
     "output_type": "display_data"
    }
   ],
   "source": [
    "display(Markdown('# As of ' + today.strftime(\"%B %d, %Y\") + ' there are <span style=\\\"color:red\\\">'+ str(countusers) + '</span> Open@Stout users and <span style=\\\"color:red\\\">'+ str(countnodes) + '</span> public projects!'))"
   ]
  },
  {
   "cell_type": "code",
   "execution_count": 6,
   "id": "extra-report",
   "metadata": {
    "execution": {
     "iopub.execute_input": "2021-01-23T11:00:26.440414Z",
     "iopub.status.busy": "2021-01-23T11:00:26.439891Z",
     "iopub.status.idle": "2021-01-23T11:00:26.683443Z",
     "shell.execute_reply": "2021-01-23T11:00:26.683910Z"
    },
    "papermill": {
     "duration": 0.253703,
     "end_time": "2021-01-23T11:00:26.684078",
     "exception": false,
     "start_time": "2021-01-23T11:00:26.430375",
     "status": "completed"
    },
    "tags": []
   },
   "outputs": [
    {
     "data": {
      "image/png": "[encoded data removed]",
      "text/plain": [
       "<Figure size 864x432 with 1 Axes>"
      ]
     },
     "metadata": {
      "needs_background": "light"
     },
     "output_type": "display_data"
    }
   ],
   "source": [
    "outplot = df.plot(y='count', legend=False, grid='True', figsize=(12,6));\n",
    "outplot.set_ylabel(\"Number of registered users\");\n",
    "outplot.set_xlabel(\"Date\");"
   ]
  },
  {
   "cell_type": "code",
   "execution_count": 7,
   "id": "electoral-principle",
   "metadata": {
    "execution": {
     "iopub.execute_input": "2021-01-23T11:00:26.728330Z",
     "iopub.status.busy": "2021-01-23T11:00:26.722091Z",
     "iopub.status.idle": "2021-01-23T11:00:26.938389Z",
     "shell.execute_reply": "2021-01-23T11:00:26.938865Z"
    },
    "papermill": {
     "duration": 0.247063,
     "end_time": "2021-01-23T11:00:26.939051",
     "exception": false,
     "start_time": "2021-01-23T11:00:26.691988",
     "status": "completed"
    },
    "tags": []
   },
   "outputs": [
    {
     "data": {
      "image/png": "[encoded data removed]",
      "text/plain": [
       "<Figure size 864x432 with 1 Axes>"
      ]
     },
     "metadata": {
      "needs_background": "light"
     },
     "output_type": "display_data"
    }
   ],
   "source": [
    "outplot1 = df1.plot(y='count', legend=False, grid='True', figsize=(12,6));\n",
    "outplot1.set_ylabel(\"Number of affiliated projects\");\n",
    "outplot1.set_xlabel(\"Date\");"
   ]
  },
  {
   "cell_type": "code",
   "execution_count": 8,
   "id": "japanese-prayer",
   "metadata": {
    "execution": {
     "iopub.execute_input": "2021-01-23T11:00:26.961614Z",
     "iopub.status.busy": "2021-01-23T11:00:26.961055Z",
     "iopub.status.idle": "2021-01-23T11:00:26.963212Z",
     "shell.execute_reply": "2021-01-23T11:00:26.963638Z"
    },
    "papermill": {
     "duration": 0.015387,
     "end_time": "2021-01-23T11:00:26.963785",
     "exception": false,
     "start_time": "2021-01-23T11:00:26.948398",
     "status": "completed"
    },
    "tags": []
   },
   "outputs": [
    {
     "data": {
      "text/html": [
       "<style>\n",
       "div.input {\n",
       "    display:none;\n",
       "}\n",
       "</style>\n"
      ],
      "text/plain": [
       "<IPython.core.display.HTML object>"
      ]
     },
     "metadata": {},
     "output_type": "display_data"
    }
   ],
   "source": [
    "%%html\n",
    "<style>\n",
    "div.input {\n",
    "    display:none;\n",
    "}\n",
    "</style>"
   ]
  }
 ],
 "metadata": {
  "kernelspec": {
   "display_name": "Python 3",
   "language": "python",
   "name": "python3"
  },
  "language_info": {
   "codemirror_mode": {
    "name": "ipython",
    "version": 3
   },
   "file_extension": ".py",
   "mimetype": "text/x-python",
   "name": "python",
   "nbconvert_exporter": "python",
   "pygments_lexer": "ipython3",
   "version": "3.8.6"
  },
  "papermill": {
   "default_parameters": {},
   "duration": 9.400703,
   "end_time": "2021-01-23T11:00:28.267174",
   "environment_variables": {},
   "exception": null,
   "input_path": "OpenAtStout_dashboard.ipynb",
   "output_path": "OpenAtStout_dashboard.ipynb",
   "parameters": {},
   "start_time": "2021-01-23T11:00:18.866471",
   "version": "2.2.2"
  }
 },
 "nbformat": 4,
 "nbformat_minor": 5
}