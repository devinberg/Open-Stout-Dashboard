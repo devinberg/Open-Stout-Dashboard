{
 "cells": [
  {
   "cell_type": "code",
   "execution_count": 1,
   "metadata": {
    "execution": {
     "iopub.execute_input": "2020-12-12T10:27:49.162189Z",
     "iopub.status.busy": "2020-12-12T10:27:49.161509Z",
     "iopub.status.idle": "2020-12-12T10:27:51.374091Z",
     "shell.execute_reply": "2020-12-12T10:27:51.373074Z"
    },
    "papermill": {
     "duration": 2.229888,
     "end_time": "2020-12-12T10:27:51.374286",
     "exception": false,
     "start_time": "2020-12-12T10:27:49.144398",
     "status": "completed"
    },
    "tags": []
   },
   "outputs": [],
   "source": [
    "import pandas as pd\n",
    "import json\n",
    "import requests\n",
    "from pandas import json_normalize\n",
    "import matplotlib.pyplot as plt\n",
    "from matplotlib import dates\n",
    "from datetime import date\n",
    "from IPython.display import display, Markdown\n",
    "%matplotlib inline"
   ]
  },
  {
   "cell_type": "code",
   "execution_count": 2,
   "metadata": {
    "execution": {
     "iopub.execute_input": "2020-12-12T10:27:51.394902Z",
     "iopub.status.busy": "2020-12-12T10:27:51.392388Z",
     "iopub.status.idle": "2020-12-12T10:27:52.531202Z",
     "shell.execute_reply": "2020-12-12T10:27:52.530598Z"
    },
    "papermill": {
     "duration": 1.150936,
     "end_time": "2020-12-12T10:27:52.531339",
     "exception": false,
     "start_time": "2020-12-12T10:27:51.380403",
     "status": "completed"
    },
    "tags": []
   },
   "outputs": [],
   "source": [
    "# Load page 1 of data and initialize the dataframes.\n",
    "jsonObj = json.loads(requests.get('https://api.osf.io/v2/institutions/uwstout/users/?format=json').text)\n",
    "metadf = pd.json_normalize(jsonObj[\"links\"])\n",
    "df = pd.json_normalize(jsonObj[\"data\"])\n",
    "\n",
    "jsonObj = json.loads(requests.get('https://api.osf.io/v2/institutions/uwstout/nodes/?format=json').text)\n",
    "metadf1 = pd.json_normalize(jsonObj[\"links\"])\n",
    "df1 = pd.json_normalize(jsonObj[\"data\"])"
   ]
  },
  {
   "cell_type": "code",
   "execution_count": 3,
   "metadata": {
    "execution": {
     "iopub.execute_input": "2020-12-12T10:27:52.554002Z",
     "iopub.status.busy": "2020-12-12T10:27:52.553025Z",
     "iopub.status.idle": "2020-12-12T10:27:54.141340Z",
     "shell.execute_reply": "2020-12-12T10:27:54.140729Z"
    },
    "papermill": {
     "duration": 1.604249,
     "end_time": "2020-12-12T10:27:54.141523",
     "exception": false,
     "start_time": "2020-12-12T10:27:52.537274",
     "status": "completed"
    },
    "tags": []
   },
   "outputs": [],
   "source": [
    "# Check for additional pages and append to dataframe.\n",
    "while metadf['next'].item() != None:\n",
    "    jsonObj = json.loads(requests.get(metadf['next'].item()).text)\n",
    "    metadf = pd.json_normalize(jsonObj[\"links\"])\n",
    "    df2 = pd.json_normalize(jsonObj[\"data\"])\n",
    "    df = df.append(df2)\n",
    "\n",
    "while metadf1['next'].item() != None:\n",
    "    jsonObj = json.loads(requests.get(metadf1['next'].item()).text)\n",
    "    metadf1 = pd.json_normalize(jsonObj[\"links\"])\n",
    "    df2 = pd.json_normalize(jsonObj[\"data\"])\n",
    "    df1 = df1.append(df2)"
   ]
  },
  {
   "cell_type": "code",
   "execution_count": 4,
   "metadata": {
    "execution": {
     "iopub.execute_input": "2020-12-12T10:27:54.165787Z",
     "iopub.status.busy": "2020-12-12T10:27:54.160964Z",
     "iopub.status.idle": "2020-12-12T10:27:54.171408Z",
     "shell.execute_reply": "2020-12-12T10:27:54.170875Z"
    },
    "papermill": {
     "duration": 0.023951,
     "end_time": "2020-12-12T10:27:54.171555",
     "exception": false,
     "start_time": "2020-12-12T10:27:54.147604",
     "status": "completed"
    },
    "tags": []
   },
   "outputs": [],
   "source": [
    "# Sort data by registration date and add count column.\n",
    "df['attributes.date_registered'] = pd.to_datetime(df['attributes.date_registered'])\n",
    "df = df.sort_values(by=['attributes.date_registered'], ascending=True)\n",
    "df.set_index('attributes.date_registered',inplace=True)\n",
    "df['count'] = range(1,len(df) + 1)\n",
    "countusers = df['count'][-1]\n",
    "\n",
    "df1['attributes.date_created'] = pd.to_datetime(df1['attributes.date_created'])\n",
    "df1 = df1.sort_values(by=['attributes.date_created'], ascending=True)\n",
    "df1.set_index('attributes.date_created',inplace=True)\n",
    "df1['count'] = range(1,len(df1) + 1)\n",
    "countnodes = df1['count'][-1]\n",
    "today = date.today()"
   ]
  },
  {
   "cell_type": "code",
   "execution_count": 5,
   "metadata": {
    "execution": {
     "iopub.execute_input": "2020-12-12T10:27:54.191252Z",
     "iopub.status.busy": "2020-12-12T10:27:54.190068Z",
     "iopub.status.idle": "2020-12-12T10:27:54.192999Z",
     "shell.execute_reply": "2020-12-12T10:27:54.193498Z"
    },
    "papermill": {
     "duration": 0.016008,
     "end_time": "2020-12-12T10:27:54.193649",
     "exception": false,
     "start_time": "2020-12-12T10:27:54.177641",
     "status": "completed"
    },
    "tags": []
   },
   "outputs": [
    {
     "data": {
      "text/markdown": [
       "# As of December 12, 2020 there are <span style=\"color:red\">19</span> Open@Stout users and <span style=\"color:red\">30</span> public projects!"
      ],
      "text/plain": [
       "<IPython.core.display.Markdown object>"
      ]
     },
     "metadata": {},
     "output_type": "display_data"
    }
   ],
   "source": [
    "display(Markdown('# As of ' + today.strftime(\"%B %d, %Y\") + ' there are <span style=\\\"color:red\\\">'+ str(countusers) + '</span> Open@Stout users and <span style=\\\"color:red\\\">'+ str(countnodes) + '</span> public projects!'))"
   ]
  },
  {
   "cell_type": "code",
   "execution_count": 6,
   "metadata": {
    "execution": {
     "iopub.execute_input": "2020-12-12T10:27:54.213339Z",
     "iopub.status.busy": "2020-12-12T10:27:54.212554Z",
     "iopub.status.idle": "2020-12-12T10:27:54.476140Z",
     "shell.execute_reply": "2020-12-12T10:27:54.475558Z"
    },
    "papermill": {
     "duration": 0.274349,
     "end_time": "2020-12-12T10:27:54.476282",
     "exception": false,
     "start_time": "2020-12-12T10:27:54.201933",
     "status": "completed"
    },
    "tags": []
   },
   "outputs": [
    {
     "data": {
      "image/png": "[encoded data removed]",
      "text/plain": [
       "<Figure size 864x432 with 1 Axes>"
      ]
     },
     "metadata": {
      "needs_background": "light"
     },
     "output_type": "display_data"
    }
   ],
   "source": [
    "outplot = df.plot(y='count', legend=False, grid='True', figsize=(12,6));\n",
    "outplot.set_ylabel(\"Number of registered users\");\n",
    "outplot.set_xlabel(\"Date\");"
   ]
  },
  {
   "cell_type": "code",
   "execution_count": 7,
   "metadata": {
    "execution": {
     "iopub.execute_input": "2020-12-12T10:27:54.560113Z",
     "iopub.status.busy": "2020-12-12T10:27:54.517015Z",
     "iopub.status.idle": "2020-12-12T10:27:54.765329Z",
     "shell.execute_reply": "2020-12-12T10:27:54.764723Z"
    },
    "papermill": {
     "duration": 0.279833,
     "end_time": "2020-12-12T10:27:54.765484",
     "exception": false,
     "start_time": "2020-12-12T10:27:54.485651",
     "status": "completed"
    },
    "tags": []
   },
   "outputs": [
    {
     "data": {
      "image/png": "[encoded data removed]",
      "text/plain": [
       "<Figure size 864x432 with 1 Axes>"
      ]
     },
     "metadata": {
      "needs_background": "light"
     },
     "output_type": "display_data"
    }
   ],
   "source": [
    "outplot1 = df1.plot(y='count', legend=False, grid='True', figsize=(12,6));\n",
    "outplot1.set_ylabel(\"Number of affiliated projects\");\n",
    "outplot1.set_xlabel(\"Date\");"
   ]
  },
  {
   "cell_type": "code",
   "execution_count": 8,
   "metadata": {
    "execution": {
     "iopub.execute_input": "2020-12-12T10:27:54.788114Z",
     "iopub.status.busy": "2020-12-12T10:27:54.787571Z",
     "iopub.status.idle": "2020-12-12T10:27:54.791392Z",
     "shell.execute_reply": "2020-12-12T10:27:54.791845Z"
    },
    "papermill": {
     "duration": 0.017804,
     "end_time": "2020-12-12T10:27:54.791989",
     "exception": false,
     "start_time": "2020-12-12T10:27:54.774185",
     "status": "completed"
    },
    "tags": []
   },
   "outputs": [
    {
     "data": {
      "text/html": [
       "<style>\n",
       "div.input {\n",
       "    display:none;\n",
       "}\n",
       "</style>\n"
      ],
      "text/plain": [
       "<IPython.core.display.HTML object>"
      ]
     },
     "metadata": {},
     "output_type": "display_data"
    }
   ],
   "source": [
    "%%html\n",
    "<style>\n",
    "div.input {\n",
    "    display:none;\n",
    "}\n",
    "</style>"
   ]
  }
 ],
 "metadata": {
  "kernelspec": {
   "display_name": "Python 3",
   "language": "python",
   "name": "python3"
  },
  "language_info": {
   "codemirror_mode": {
    "name": "ipython",
    "version": 3
   },
   "file_extension": ".py",
   "mimetype": "text/x-python",
   "name": "python",
   "nbconvert_exporter": "python",
   "pygments_lexer": "ipython3",
   "version": "3.8.6"
  },
  "papermill": {
   "default_parameters": {},
   "duration": 7.433549,
   "end_time": "2020-12-12T10:27:55.107656",
   "environment_variables": {},
   "exception": null,
   "input_path": "OpenAtStout_dashboard.ipynb",
   "output_path": "OpenAtStout_dashboard.ipynb",
   "parameters": {},
   "start_time": "2020-12-12T10:27:47.674107",
   "version": "2.2.2"
  }
 },
 "nbformat": 4,
 "nbformat_minor": 4
}