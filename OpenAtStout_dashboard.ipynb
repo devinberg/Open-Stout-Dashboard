{
 "cells": [
  {
   "cell_type": "code",
   "execution_count": 1,
   "id": "ordered-preparation",
   "metadata": {
    "execution": {
     "iopub.execute_input": "2021-09-25T10:24:15.305043Z",
     "iopub.status.busy": "2021-09-25T10:24:15.304507Z",
     "iopub.status.idle": "2021-09-25T10:24:17.554720Z",
     "shell.execute_reply": "2021-09-25T10:24:17.555148Z"
    },
    "papermill": {
     "duration": 2.266548,
     "end_time": "2021-09-25T10:24:17.555396",
     "exception": false,
     "start_time": "2021-09-25T10:24:15.288848",
     "status": "completed"
    },
    "tags": []
   },
   "outputs": [],
   "source": [
    "import pandas as pd\n",
    "import json\n",
    "import requests\n",
    "from pandas import json_normalize\n",
    "import matplotlib.pyplot as plt\n",
    "from matplotlib import dates\n",
    "from datetime import date\n",
    "from IPython.display import display, Markdown\n",
    "%matplotlib inline"
   ]
  },
  {
   "cell_type": "code",
   "execution_count": 2,
   "id": "coordinate-deadline",
   "metadata": {
    "execution": {
     "iopub.execute_input": "2021-09-25T10:24:17.571634Z",
     "iopub.status.busy": "2021-09-25T10:24:17.571119Z",
     "iopub.status.idle": "2021-09-25T10:24:18.731863Z",
     "shell.execute_reply": "2021-09-25T10:24:18.731257Z"
    },
    "papermill": {
     "duration": 1.17078,
     "end_time": "2021-09-25T10:24:18.732005",
     "exception": false,
     "start_time": "2021-09-25T10:24:17.561225",
     "status": "completed"
    },
    "tags": []
   },
   "outputs": [],
   "source": [
    "# Load page 1 of data and initialize the dataframes.\n",
    "jsonObj = json.loads(requests.get('https://api.osf.io/v2/institutions/uwstout/users/?format=json').text)\n",
    "metadf = pd.json_normalize(jsonObj[\"links\"])\n",
    "df = pd.json_normalize(jsonObj[\"data\"])\n",
    "\n",
    "jsonObj = json.loads(requests.get('https://api.osf.io/v2/institutions/uwstout/nodes/?format=json').text)\n",
    "metadf1 = pd.json_normalize(jsonObj[\"links\"])\n",
    "df1 = pd.json_normalize(jsonObj[\"data\"])"
   ]
  },
  {
   "cell_type": "code",
   "execution_count": 3,
   "id": "chubby-coordinate",
   "metadata": {
    "execution": {
     "iopub.execute_input": "2021-09-25T10:24:18.751552Z",
     "iopub.status.busy": "2021-09-25T10:24:18.745864Z",
     "iopub.status.idle": "2021-09-25T10:24:21.411469Z",
     "shell.execute_reply": "2021-09-25T10:24:21.410951Z"
    },
    "papermill": {
     "duration": 2.67301,
     "end_time": "2021-09-25T10:24:21.411601",
     "exception": false,
     "start_time": "2021-09-25T10:24:18.738591",
     "status": "completed"
    },
    "tags": []
   },
   "outputs": [],
   "source": [
    "# Check for additional pages and append to dataframe.\n",
    "while metadf['next'].item() != None:\n",
    "    jsonObj = json.loads(requests.get(metadf['next'].item()).text)\n",
    "    metadf = pd.json_normalize(jsonObj[\"links\"])\n",
    "    df2 = pd.json_normalize(jsonObj[\"data\"])\n",
    "    df = df.append(df2)\n",
    "\n",
    "while metadf1['next'].item() != None:\n",
    "    jsonObj = json.loads(requests.get(metadf1['next'].item()).text)\n",
    "    metadf1 = pd.json_normalize(jsonObj[\"links\"])\n",
    "    df2 = pd.json_normalize(jsonObj[\"data\"])\n",
    "    df1 = df1.append(df2)"
   ]
  },
  {
   "cell_type": "code",
   "execution_count": 4,
   "id": "cleared-nepal",
   "metadata": {
    "execution": {
     "iopub.execute_input": "2021-09-25T10:24:21.429028Z",
     "iopub.status.busy": "2021-09-25T10:24:21.428544Z",
     "iopub.status.idle": "2021-09-25T10:24:21.436996Z",
     "shell.execute_reply": "2021-09-25T10:24:21.437355Z"
    },
    "papermill": {
     "duration": 0.019634,
     "end_time": "2021-09-25T10:24:21.437477",
     "exception": false,
     "start_time": "2021-09-25T10:24:21.417843",
     "status": "completed"
    },
    "tags": []
   },
   "outputs": [],
   "source": [
    "# Sort data by registration date and add count column.\n",
    "df['attributes.date_registered'] = pd.to_datetime(df['attributes.date_registered'])\n",
    "df = df.sort_values(by=['attributes.date_registered'], ascending=True)\n",
    "df.set_index('attributes.date_registered',inplace=True)\n",
    "df['count'] = range(1,len(df) + 1)\n",
    "countusers = df['count'][-1]\n",
    "\n",
    "df1['attributes.date_created'] = pd.to_datetime(df1['attributes.date_created'])\n",
    "df1 = df1.sort_values(by=['attributes.date_created'], ascending=True)\n",
    "df1.set_index('attributes.date_created',inplace=True)\n",
    "df1['count'] = range(1,len(df1) + 1)\n",
    "countnodes = df1['count'][-1]\n",
    "today = date.today()"
   ]
  },
  {
   "cell_type": "code",
   "execution_count": 5,
   "id": "funky-thanks",
   "metadata": {
    "execution": {
     "iopub.execute_input": "2021-09-25T10:24:21.453014Z",
     "iopub.status.busy": "2021-09-25T10:24:21.450750Z",
     "iopub.status.idle": "2021-09-25T10:24:21.455279Z",
     "shell.execute_reply": "2021-09-25T10:24:21.455679Z"
    },
    "papermill": {
     "duration": 0.013258,
     "end_time": "2021-09-25T10:24:21.455790",
     "exception": false,
     "start_time": "2021-09-25T10:24:21.442532",
     "status": "completed"
    },
    "tags": []
   },
   "outputs": [
    {
     "data": {
      "text/markdown": [
       "# As of September 25, 2021 there are <span style=\"color:red\">27</span> Open@Stout users and <span style=\"color:red\">32</span> public projects!"
      ],
      "text/plain": [
       "<IPython.core.display.Markdown object>"
      ]
     },
     "metadata": {},
     "output_type": "display_data"
    }
   ],
   "source": [
    "display(Markdown('# As of ' + today.strftime(\"%B %d, %Y\") + ' there are <span style=\\\"color:red\\\">'+ str(countusers) + '</span> Open@Stout users and <span style=\\\"color:red\\\">'+ str(countnodes) + '</span> public projects!'))"
   ]
  },
  {
   "cell_type": "code",
   "execution_count": 6,
   "id": "extra-report",
   "metadata": {
    "execution": {
     "iopub.execute_input": "2021-09-25T10:24:21.470373Z",
     "iopub.status.busy": "2021-09-25T10:24:21.469887Z",
     "iopub.status.idle": "2021-09-25T10:24:21.656947Z",
     "shell.execute_reply": "2021-09-25T10:24:21.656458Z"
    },
    "papermill": {
     "duration": 0.195738,
     "end_time": "2021-09-25T10:24:21.657073",
     "exception": false,
     "start_time": "2021-09-25T10:24:21.461335",
     "status": "completed"
    },
    "tags": []
   },
   "outputs": [
    {
     "data": {
      "image/png": "[encoded data removed]",
      "text/plain": [
       "<Figure size 864x432 with 1 Axes>"
      ]
     },
     "metadata": {
      "needs_background": "light"
     },
     "output_type": "display_data"
    }
   ],
   "source": [
    "outplot = df.plot(y='count', legend=False, grid='True', figsize=(12,6));\n",
    "outplot.set_ylabel(\"Number of registered users\");\n",
    "outplot.set_xlabel(\"Date\");"
   ]
  },
  {
   "cell_type": "code",
   "execution_count": 7,
   "id": "electoral-principle",
   "metadata": {
    "execution": {
     "iopub.execute_input": "2021-09-25T10:24:21.674618Z",
     "iopub.status.busy": "2021-09-25T10:24:21.674103Z",
     "iopub.status.idle": "2021-09-25T10:24:21.813852Z",
     "shell.execute_reply": "2021-09-25T10:24:21.813443Z"
    },
    "papermill": {
     "duration": 0.150086,
     "end_time": "2021-09-25T10:24:21.813972",
     "exception": false,
     "start_time": "2021-09-25T10:24:21.663886",
     "status": "completed"
    },
    "tags": []
   },
   "outputs": [
    {
     "data": {
      "image/png": "[encoded data removed]",
      "text/plain": [
       "<Figure size 864x432 with 1 Axes>"
      ]
     },
     "metadata": {
      "needs_background": "light"
     },
     "output_type": "display_data"
    }
   ],
   "source": [
    "outplot1 = df1.plot(y='count', legend=False, grid='True', figsize=(12,6));\n",
    "outplot1.set_ylabel(\"Number of affiliated projects\");\n",
    "outplot1.set_xlabel(\"Date\");"
   ]
  },
  {
   "cell_type": "code",
   "execution_count": 8,
   "id": "japanese-prayer",
   "metadata": {
    "execution": {
     "iopub.execute_input": "2021-09-25T10:24:21.833319Z",
     "iopub.status.busy": "2021-09-25T10:24:21.832850Z",
     "iopub.status.idle": "2021-09-25T10:24:21.835095Z",
     "shell.execute_reply": "2021-09-25T10:24:21.835465Z"
    },
    "papermill": {
     "duration": 0.01432,
     "end_time": "2021-09-25T10:24:21.835579",
     "exception": false,
     "start_time": "2021-09-25T10:24:21.821259",
     "status": "completed"
    },
    "tags": []
   },
   "outputs": [
    {
     "data": {
      "text/html": [
       "<style>\n",
       "div.input {\n",
       "    display:none;\n",
       "}\n",
       "</style>\n"
      ],
      "text/plain": [
       "<IPython.core.display.HTML object>"
      ]
     },
     "metadata": {},
     "output_type": "display_data"
    }
   ],
   "source": [
    "%%html\n",
    "<style>\n",
    "div.input {\n",
    "    display:none;\n",
    "}\n",
    "</style>"
   ]
  }
 ],
 "metadata": {
  "kernelspec": {
   "display_name": "Python 3",
   "language": "python",
   "name": "python3"
  },
  "language_info": {
   "codemirror_mode": {
    "name": "ipython",
    "version": 3
   },
   "file_extension": ".py",
   "mimetype": "text/x-python",
   "name": "python",
   "nbconvert_exporter": "python",
   "pygments_lexer": "ipython3",
   "version": "3.8.12"
  },
  "papermill": {
   "default_parameters": {},
   "duration": 8.577077,
   "end_time": "2021-09-25T10:24:22.050258",
   "environment_variables": {},
   "exception": null,
   "input_path": "OpenAtStout_dashboard.ipynb",
   "output_path": "OpenAtStout_dashboard.ipynb",
   "parameters": {},
   "start_time": "2021-09-25T10:24:13.473181",
   "version": "2.2.2"
  }
 },
 "nbformat": 4,
 "nbformat_minor": 5
}