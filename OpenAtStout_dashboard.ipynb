{
 "cells": [
  {
   "cell_type": "code",
   "execution_count": 1,
   "id": "ordered-preparation",
   "metadata": {
    "execution": {
     "iopub.execute_input": "2021-10-23T10:24:46.464383Z",
     "iopub.status.busy": "2021-10-23T10:24:46.463838Z",
     "iopub.status.idle": "2021-10-23T10:24:48.436680Z",
     "shell.execute_reply": "2021-10-23T10:24:48.436016Z"
    },
    "papermill": {
     "duration": 2.005219,
     "end_time": "2021-10-23T10:24:48.436830",
     "exception": false,
     "start_time": "2021-10-23T10:24:46.431611",
     "status": "completed"
    },
    "tags": []
   },
   "outputs": [],
   "source": [
    "import pandas as pd\n",
    "import json\n",
    "import requests\n",
    "from pandas import json_normalize\n",
    "import matplotlib.pyplot as plt\n",
    "from matplotlib import dates\n",
    "from datetime import date\n",
    "from IPython.display import display, Markdown\n",
    "%matplotlib inline"
   ]
  },
  {
   "cell_type": "code",
   "execution_count": 2,
   "id": "coordinate-deadline",
   "metadata": {
    "execution": {
     "iopub.execute_input": "2021-10-23T10:24:48.484996Z",
     "iopub.status.busy": "2021-10-23T10:24:48.484435Z",
     "iopub.status.idle": "2021-10-23T10:24:50.063071Z",
     "shell.execute_reply": "2021-10-23T10:24:50.062645Z"
    },
    "papermill": {
     "duration": 1.605762,
     "end_time": "2021-10-23T10:24:50.063190",
     "exception": false,
     "start_time": "2021-10-23T10:24:48.457428",
     "status": "completed"
    },
    "tags": []
   },
   "outputs": [],
   "source": [
    "# Load page 1 of data and initialize the dataframes.\n",
    "jsonObj = json.loads(requests.get('https://api.osf.io/v2/institutions/uwstout/users/?format=json').text)\n",
    "metadf = pd.json_normalize(jsonObj[\"links\"])\n",
    "df = pd.json_normalize(jsonObj[\"data\"])\n",
    "\n",
    "jsonObj = json.loads(requests.get('https://api.osf.io/v2/institutions/uwstout/nodes/?format=json').text)\n",
    "metadf1 = pd.json_normalize(jsonObj[\"links\"])\n",
    "df1 = pd.json_normalize(jsonObj[\"data\"])"
   ]
  },
  {
   "cell_type": "code",
   "execution_count": 3,
   "id": "chubby-coordinate",
   "metadata": {
    "execution": {
     "iopub.execute_input": "2021-10-23T10:24:50.110433Z",
     "iopub.status.busy": "2021-10-23T10:24:50.109939Z",
     "iopub.status.idle": "2021-10-23T10:24:53.295202Z",
     "shell.execute_reply": "2021-10-23T10:24:53.294686Z"
    },
    "papermill": {
     "duration": 3.212249,
     "end_time": "2021-10-23T10:24:53.295326",
     "exception": false,
     "start_time": "2021-10-23T10:24:50.083077",
     "status": "completed"
    },
    "tags": []
   },
   "outputs": [],
   "source": [
    "# Check for additional pages and append to dataframe.\n",
    "while metadf['next'].item() != None:\n",
    "    jsonObj = json.loads(requests.get(metadf['next'].item()).text)\n",
    "    metadf = pd.json_normalize(jsonObj[\"links\"])\n",
    "    df2 = pd.json_normalize(jsonObj[\"data\"])\n",
    "    df = df.append(df2)\n",
    "\n",
    "while metadf1['next'].item() != None:\n",
    "    jsonObj = json.loads(requests.get(metadf1['next'].item()).text)\n",
    "    metadf1 = pd.json_normalize(jsonObj[\"links\"])\n",
    "    df2 = pd.json_normalize(jsonObj[\"data\"])\n",
    "    df1 = df1.append(df2)"
   ]
  },
  {
   "cell_type": "code",
   "execution_count": 4,
   "id": "cleared-nepal",
   "metadata": {
    "execution": {
     "iopub.execute_input": "2021-10-23T10:24:53.336725Z",
     "iopub.status.busy": "2021-10-23T10:24:53.336177Z",
     "iopub.status.idle": "2021-10-23T10:24:53.345458Z",
     "shell.execute_reply": "2021-10-23T10:24:53.344958Z"
    },
    "papermill": {
     "duration": 0.033444,
     "end_time": "2021-10-23T10:24:53.345586",
     "exception": false,
     "start_time": "2021-10-23T10:24:53.312142",
     "status": "completed"
    },
    "tags": []
   },
   "outputs": [],
   "source": [
    "# Sort data by registration date and add count column.\n",
    "df['attributes.date_registered'] = pd.to_datetime(df['attributes.date_registered'])\n",
    "df = df.sort_values(by=['attributes.date_registered'], ascending=True)\n",
    "df.set_index('attributes.date_registered',inplace=True)\n",
    "df['count'] = range(1,len(df) + 1)\n",
    "countusers = df['count'][-1]\n",
    "\n",
    "df1['attributes.date_created'] = pd.to_datetime(df1['attributes.date_created'])\n",
    "df1 = df1.sort_values(by=['attributes.date_created'], ascending=True)\n",
    "df1.set_index('attributes.date_created',inplace=True)\n",
    "df1['count'] = range(1,len(df1) + 1)\n",
    "countnodes = df1['count'][-1]\n",
    "today = date.today()"
   ]
  },
  {
   "cell_type": "code",
   "execution_count": 5,
   "id": "funky-thanks",
   "metadata": {
    "execution": {
     "iopub.execute_input": "2021-10-23T10:24:53.385827Z",
     "iopub.status.busy": "2021-10-23T10:24:53.385345Z",
     "iopub.status.idle": "2021-10-23T10:24:53.387955Z",
     "shell.execute_reply": "2021-10-23T10:24:53.388353Z"
    },
    "papermill": {
     "duration": 0.026416,
     "end_time": "2021-10-23T10:24:53.388475",
     "exception": false,
     "start_time": "2021-10-23T10:24:53.362059",
     "status": "completed"
    },
    "tags": []
   },
   "outputs": [
    {
     "data": {
      "text/markdown": [
       "# As of October 23, 2021 there are <span style=\"color:red\">29</span> Open@Stout users and <span style=\"color:red\">32</span> public projects!"
      ],
      "text/plain": [
       "<IPython.core.display.Markdown object>"
      ]
     },
     "metadata": {},
     "output_type": "display_data"
    }
   ],
   "source": [
    "display(Markdown('# As of ' + today.strftime(\"%B %d, %Y\") + ' there are <span style=\\\"color:red\\\">'+ str(countusers) + '</span> Open@Stout users and <span style=\\\"color:red\\\">'+ str(countnodes) + '</span> public projects!'))"
   ]
  },
  {
   "cell_type": "code",
   "execution_count": 6,
   "id": "extra-report",
   "metadata": {
    "execution": {
     "iopub.execute_input": "2021-10-23T10:24:53.431361Z",
     "iopub.status.busy": "2021-10-23T10:24:53.430901Z",
     "iopub.status.idle": "2021-10-23T10:24:53.640830Z",
     "shell.execute_reply": "2021-10-23T10:24:53.640335Z"
    },
    "papermill": {
     "duration": 0.232941,
     "end_time": "2021-10-23T10:24:53.640948",
     "exception": false,
     "start_time": "2021-10-23T10:24:53.408007",
     "status": "completed"
    },
    "tags": []
   },
   "outputs": [
    {
     "data": {
      "image/png": "[encoded data removed]",
      "text/plain": [
       "<Figure size 864x432 with 1 Axes>"
      ]
     },
     "metadata": {
      "needs_background": "light"
     },
     "output_type": "display_data"
    }
   ],
   "source": [
    "outplot = df.plot(y='count', legend=False, grid='True', figsize=(12,6));\n",
    "outplot.set_ylabel(\"Number of registered users\");\n",
    "outplot.set_xlabel(\"Date\");"
   ]
  },
  {
   "cell_type": "code",
   "execution_count": 7,
   "id": "electoral-principle",
   "metadata": {
    "execution": {
     "iopub.execute_input": "2021-10-23T10:24:53.708038Z",
     "iopub.status.busy": "2021-10-23T10:24:53.692476Z",
     "iopub.status.idle": "2021-10-23T10:24:53.845771Z",
     "shell.execute_reply": "2021-10-23T10:24:53.846426Z"
    },
    "papermill": {
     "duration": 0.182583,
     "end_time": "2021-10-23T10:24:53.846570",
     "exception": false,
     "start_time": "2021-10-23T10:24:53.663987",
     "status": "completed"
    },
    "tags": []
   },
   "outputs": [
    {
     "data": {
      "image/png": "[encoded data removed]",
      "text/plain": [
       "<Figure size 864x432 with 1 Axes>"
      ]
     },
     "metadata": {
      "needs_background": "light"
     },
     "output_type": "display_data"
    }
   ],
   "source": [
    "outplot1 = df1.plot(y='count', legend=False, grid='True', figsize=(12,6));\n",
    "outplot1.set_ylabel(\"Number of affiliated projects\");\n",
    "outplot1.set_xlabel(\"Date\");"
   ]
  },
  {
   "cell_type": "code",
   "execution_count": 8,
   "id": "japanese-prayer",
   "metadata": {
    "execution": {
     "iopub.execute_input": "2021-10-23T10:24:53.899040Z",
     "iopub.status.busy": "2021-10-23T10:24:53.898462Z",
     "iopub.status.idle": "2021-10-23T10:24:53.901401Z",
     "shell.execute_reply": "2021-10-23T10:24:53.900947Z"
    },
    "papermill": {
     "duration": 0.032441,
     "end_time": "2021-10-23T10:24:53.901494",
     "exception": false,
     "start_time": "2021-10-23T10:24:53.869053",
     "status": "completed"
    },
    "tags": []
   },
   "outputs": [
    {
     "data": {
      "text/html": [
       "<style>\n",
       "div.input {\n",
       "    display:none;\n",
       "}\n",
       "</style>\n"
      ],
      "text/plain": [
       "<IPython.core.display.HTML object>"
      ]
     },
     "metadata": {},
     "output_type": "display_data"
    }
   ],
   "source": [
    "%%html\n",
    "<style>\n",
    "div.input {\n",
    "    display:none;\n",
    "}\n",
    "</style>"
   ]
  }
 ],
 "metadata": {
  "kernelspec": {
   "display_name": "Python 3",
   "language": "python",
   "name": "python3"
  },
  "language_info": {
   "codemirror_mode": {
    "name": "ipython",
    "version": 3
   },
   "file_extension": ".py",
   "mimetype": "text/x-python",
   "name": "python",
   "nbconvert_exporter": "python",
   "pygments_lexer": "ipython3",
   "version": "3.8.12"
  },
  "papermill": {
   "default_parameters": {},
   "duration": 9.699395,
   "end_time": "2021-10-23T10:24:54.236351",
   "environment_variables": {},
   "exception": null,
   "input_path": "OpenAtStout_dashboard.ipynb",
   "output_path": "OpenAtStout_dashboard.ipynb",
   "parameters": {},
   "start_time": "2021-10-23T10:24:44.536956",
   "version": "2.2.2"
  }
 },
 "nbformat": 4,
 "nbformat_minor": 5
}