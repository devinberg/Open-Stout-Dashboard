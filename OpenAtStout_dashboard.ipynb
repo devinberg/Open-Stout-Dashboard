{
 "cells": [
  {
   "cell_type": "code",
   "execution_count": 1,
   "id": "ordered-preparation",
   "metadata": {
    "execution": {
     "iopub.execute_input": "2021-09-11T10:24:17.974689Z",
     "iopub.status.busy": "2021-09-11T10:24:17.973426Z",
     "iopub.status.idle": "2021-09-11T10:24:18.856747Z",
     "shell.execute_reply": "2021-09-11T10:24:18.856121Z"
    },
    "papermill": {
     "duration": 0.899106,
     "end_time": "2021-09-11T10:24:18.856867",
     "exception": false,
     "start_time": "2021-09-11T10:24:17.957761",
     "status": "completed"
    },
    "tags": []
   },
   "outputs": [],
   "source": [
    "import pandas as pd\n",
    "import json\n",
    "import requests\n",
    "from pandas import json_normalize\n",
    "import matplotlib.pyplot as plt\n",
    "from matplotlib import dates\n",
    "from datetime import date\n",
    "from IPython.display import display, Markdown\n",
    "%matplotlib inline"
   ]
  },
  {
   "cell_type": "code",
   "execution_count": 2,
   "id": "coordinate-deadline",
   "metadata": {
    "execution": {
     "iopub.execute_input": "2021-09-11T10:24:18.875767Z",
     "iopub.status.busy": "2021-09-11T10:24:18.872695Z",
     "iopub.status.idle": "2021-09-11T10:24:20.030172Z",
     "shell.execute_reply": "2021-09-11T10:24:20.029258Z"
    },
    "papermill": {
     "duration": 1.167927,
     "end_time": "2021-09-11T10:24:20.030372",
     "exception": false,
     "start_time": "2021-09-11T10:24:18.862445",
     "status": "completed"
    },
    "tags": []
   },
   "outputs": [],
   "source": [
    "# Load page 1 of data and initialize the dataframes.\n",
    "jsonObj = json.loads(requests.get('https://api.osf.io/v2/institutions/uwstout/users/?format=json').text)\n",
    "metadf = pd.json_normalize(jsonObj[\"links\"])\n",
    "df = pd.json_normalize(jsonObj[\"data\"])\n",
    "\n",
    "jsonObj = json.loads(requests.get('https://api.osf.io/v2/institutions/uwstout/nodes/?format=json').text)\n",
    "metadf1 = pd.json_normalize(jsonObj[\"links\"])\n",
    "df1 = pd.json_normalize(jsonObj[\"data\"])"
   ]
  },
  {
   "cell_type": "code",
   "execution_count": 3,
   "id": "chubby-coordinate",
   "metadata": {
    "execution": {
     "iopub.execute_input": "2021-09-11T10:24:20.052055Z",
     "iopub.status.busy": "2021-09-11T10:24:20.051494Z",
     "iopub.status.idle": "2021-09-11T10:24:22.665003Z",
     "shell.execute_reply": "2021-09-11T10:24:22.664061Z"
    },
    "papermill": {
     "duration": 2.627027,
     "end_time": "2021-09-11T10:24:22.665127",
     "exception": false,
     "start_time": "2021-09-11T10:24:20.038100",
     "status": "completed"
    },
    "tags": []
   },
   "outputs": [],
   "source": [
    "# Check for additional pages and append to dataframe.\n",
    "while metadf['next'].item() != None:\n",
    "    jsonObj = json.loads(requests.get(metadf['next'].item()).text)\n",
    "    metadf = pd.json_normalize(jsonObj[\"links\"])\n",
    "    df2 = pd.json_normalize(jsonObj[\"data\"])\n",
    "    df = df.append(df2)\n",
    "\n",
    "while metadf1['next'].item() != None:\n",
    "    jsonObj = json.loads(requests.get(metadf1['next'].item()).text)\n",
    "    metadf1 = pd.json_normalize(jsonObj[\"links\"])\n",
    "    df2 = pd.json_normalize(jsonObj[\"data\"])\n",
    "    df1 = df1.append(df2)"
   ]
  },
  {
   "cell_type": "code",
   "execution_count": 4,
   "id": "cleared-nepal",
   "metadata": {
    "execution": {
     "iopub.execute_input": "2021-09-11T10:24:22.686911Z",
     "iopub.status.busy": "2021-09-11T10:24:22.685423Z",
     "iopub.status.idle": "2021-09-11T10:24:22.690759Z",
     "shell.execute_reply": "2021-09-11T10:24:22.690350Z"
    },
    "papermill": {
     "duration": 0.020375,
     "end_time": "2021-09-11T10:24:22.690854",
     "exception": false,
     "start_time": "2021-09-11T10:24:22.670479",
     "status": "completed"
    },
    "tags": []
   },
   "outputs": [],
   "source": [
    "# Sort data by registration date and add count column.\n",
    "df['attributes.date_registered'] = pd.to_datetime(df['attributes.date_registered'])\n",
    "df = df.sort_values(by=['attributes.date_registered'], ascending=True)\n",
    "df.set_index('attributes.date_registered',inplace=True)\n",
    "df['count'] = range(1,len(df) + 1)\n",
    "countusers = df['count'][-1]\n",
    "\n",
    "df1['attributes.date_created'] = pd.to_datetime(df1['attributes.date_created'])\n",
    "df1 = df1.sort_values(by=['attributes.date_created'], ascending=True)\n",
    "df1.set_index('attributes.date_created',inplace=True)\n",
    "df1['count'] = range(1,len(df1) + 1)\n",
    "countnodes = df1['count'][-1]\n",
    "today = date.today()"
   ]
  },
  {
   "cell_type": "code",
   "execution_count": 5,
   "id": "funky-thanks",
   "metadata": {
    "execution": {
     "iopub.execute_input": "2021-09-11T10:24:22.707263Z",
     "iopub.status.busy": "2021-09-11T10:24:22.706811Z",
     "iopub.status.idle": "2021-09-11T10:24:22.708781Z",
     "shell.execute_reply": "2021-09-11T10:24:22.709237Z"
    },
    "papermill": {
     "duration": 0.013521,
     "end_time": "2021-09-11T10:24:22.709360",
     "exception": false,
     "start_time": "2021-09-11T10:24:22.695839",
     "status": "completed"
    },
    "tags": []
   },
   "outputs": [
    {
     "data": {
      "text/markdown": [
       "# As of September 11, 2021 there are <span style=\"color:red\">26</span> Open@Stout users and <span style=\"color:red\">32</span> public projects!"
      ],
      "text/plain": [
       "<IPython.core.display.Markdown object>"
      ]
     },
     "metadata": {},
     "output_type": "display_data"
    }
   ],
   "source": [
    "display(Markdown('# As of ' + today.strftime(\"%B %d, %Y\") + ' there are <span style=\\\"color:red\\\">'+ str(countusers) + '</span> Open@Stout users and <span style=\\\"color:red\\\">'+ str(countnodes) + '</span> public projects!'))"
   ]
  },
  {
   "cell_type": "code",
   "execution_count": 6,
   "id": "extra-report",
   "metadata": {
    "execution": {
     "iopub.execute_input": "2021-09-11T10:24:22.723629Z",
     "iopub.status.busy": "2021-09-11T10:24:22.723085Z",
     "iopub.status.idle": "2021-09-11T10:24:22.898766Z",
     "shell.execute_reply": "2021-09-11T10:24:22.898114Z"
    },
    "papermill": {
     "duration": 0.184413,
     "end_time": "2021-09-11T10:24:22.898877",
     "exception": false,
     "start_time": "2021-09-11T10:24:22.714464",
     "status": "completed"
    },
    "tags": []
   },
   "outputs": [
    {
     "data": {
      "image/png": "[encoded data removed]",
      "text/plain": [
       "<Figure size 864x432 with 1 Axes>"
      ]
     },
     "metadata": {
      "needs_background": "light"
     },
     "output_type": "display_data"
    }
   ],
   "source": [
    "outplot = df.plot(y='count', legend=False, grid='True', figsize=(12,6));\n",
    "outplot.set_ylabel(\"Number of registered users\");\n",
    "outplot.set_xlabel(\"Date\");"
   ]
  },
  {
   "cell_type": "code",
   "execution_count": 7,
   "id": "electoral-principle",
   "metadata": {
    "execution": {
     "iopub.execute_input": "2021-09-11T10:24:22.915553Z",
     "iopub.status.busy": "2021-09-11T10:24:22.915104Z",
     "iopub.status.idle": "2021-09-11T10:24:23.054408Z",
     "shell.execute_reply": "2021-09-11T10:24:23.054886Z"
    },
    "papermill": {
     "duration": 0.149817,
     "end_time": "2021-09-11T10:24:23.055047",
     "exception": false,
     "start_time": "2021-09-11T10:24:22.905230",
     "status": "completed"
    },
    "tags": []
   },
   "outputs": [
    {
     "data": {
      "image/png": "[encoded data removed]",
      "text/plain": [
       "<Figure size 864x432 with 1 Axes>"
      ]
     },
     "metadata": {
      "needs_background": "light"
     },
     "output_type": "display_data"
    }
   ],
   "source": [
    "outplot1 = df1.plot(y='count', legend=False, grid='True', figsize=(12,6));\n",
    "outplot1.set_ylabel(\"Number of affiliated projects\");\n",
    "outplot1.set_xlabel(\"Date\");"
   ]
  },
  {
   "cell_type": "code",
   "execution_count": 8,
   "id": "japanese-prayer",
   "metadata": {
    "execution": {
     "iopub.execute_input": "2021-09-11T10:24:23.079021Z",
     "iopub.status.busy": "2021-09-11T10:24:23.078502Z",
     "iopub.status.idle": "2021-09-11T10:24:23.082443Z",
     "shell.execute_reply": "2021-09-11T10:24:23.082020Z"
    },
    "papermill": {
     "duration": 0.019271,
     "end_time": "2021-09-11T10:24:23.082553",
     "exception": false,
     "start_time": "2021-09-11T10:24:23.063282",
     "status": "completed"
    },
    "tags": []
   },
   "outputs": [
    {
     "data": {
      "text/html": [
       "<style>\n",
       "div.input {\n",
       "    display:none;\n",
       "}\n",
       "</style>\n"
      ],
      "text/plain": [
       "<IPython.core.display.HTML object>"
      ]
     },
     "metadata": {},
     "output_type": "display_data"
    }
   ],
   "source": [
    "%%html\n",
    "<style>\n",
    "div.input {\n",
    "    display:none;\n",
    "}\n",
    "</style>"
   ]
  }
 ],
 "metadata": {
  "kernelspec": {
   "display_name": "Python 3",
   "language": "python",
   "name": "python3"
  },
  "language_info": {
   "codemirror_mode": {
    "name": "ipython",
    "version": 3
   },
   "file_extension": ".py",
   "mimetype": "text/x-python",
   "name": "python",
   "nbconvert_exporter": "python",
   "pygments_lexer": "ipython3",
   "version": "3.8.11"
  },
  "papermill": {
   "default_parameters": {},
   "duration": 6.96197,
   "end_time": "2021-09-11T10:24:23.298084",
   "environment_variables": {},
   "exception": null,
   "input_path": "OpenAtStout_dashboard.ipynb",
   "output_path": "OpenAtStout_dashboard.ipynb",
   "parameters": {},
   "start_time": "2021-09-11T10:24:16.336114",
   "version": "2.2.2"
  }
 },
 "nbformat": 4,
 "nbformat_minor": 5
}