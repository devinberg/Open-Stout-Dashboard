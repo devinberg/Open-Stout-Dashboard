{
 "cells": [
  {
   "cell_type": "code",
   "execution_count": 1,
   "id": "ordered-preparation",
   "metadata": {
    "execution": {
     "iopub.execute_input": "2021-10-16T10:24:50.256749Z",
     "iopub.status.busy": "2021-10-16T10:24:50.255371Z",
     "iopub.status.idle": "2021-10-16T10:24:51.167192Z",
     "shell.execute_reply": "2021-10-16T10:24:51.166586Z"
    },
    "papermill": {
     "duration": 0.947877,
     "end_time": "2021-10-16T10:24:51.167890",
     "exception": false,
     "start_time": "2021-10-16T10:24:50.220013",
     "status": "completed"
    },
    "tags": []
   },
   "outputs": [],
   "source": [
    "import pandas as pd\n",
    "import json\n",
    "import requests\n",
    "from pandas import json_normalize\n",
    "import matplotlib.pyplot as plt\n",
    "from matplotlib import dates\n",
    "from datetime import date\n",
    "from IPython.display import display, Markdown\n",
    "%matplotlib inline"
   ]
  },
  {
   "cell_type": "code",
   "execution_count": 2,
   "id": "coordinate-deadline",
   "metadata": {
    "execution": {
     "iopub.execute_input": "2021-10-16T10:24:51.222333Z",
     "iopub.status.busy": "2021-10-16T10:24:51.221759Z",
     "iopub.status.idle": "2021-10-16T10:24:52.430533Z",
     "shell.execute_reply": "2021-10-16T10:24:52.429532Z"
    },
    "papermill": {
     "duration": 1.237191,
     "end_time": "2021-10-16T10:24:52.430687",
     "exception": false,
     "start_time": "2021-10-16T10:24:51.193496",
     "status": "completed"
    },
    "tags": []
   },
   "outputs": [],
   "source": [
    "# Load page 1 of data and initialize the dataframes.\n",
    "jsonObj = json.loads(requests.get('https://api.osf.io/v2/institutions/uwstout/users/?format=json').text)\n",
    "metadf = pd.json_normalize(jsonObj[\"links\"])\n",
    "df = pd.json_normalize(jsonObj[\"data\"])\n",
    "\n",
    "jsonObj = json.loads(requests.get('https://api.osf.io/v2/institutions/uwstout/nodes/?format=json').text)\n",
    "metadf1 = pd.json_normalize(jsonObj[\"links\"])\n",
    "df1 = pd.json_normalize(jsonObj[\"data\"])"
   ]
  },
  {
   "cell_type": "code",
   "execution_count": 3,
   "id": "chubby-coordinate",
   "metadata": {
    "execution": {
     "iopub.execute_input": "2021-10-16T10:24:52.483185Z",
     "iopub.status.busy": "2021-10-16T10:24:52.482626Z",
     "iopub.status.idle": "2021-10-16T10:24:54.958381Z",
     "shell.execute_reply": "2021-10-16T10:24:54.957885Z"
    },
    "papermill": {
     "duration": 2.506423,
     "end_time": "2021-10-16T10:24:54.958516",
     "exception": false,
     "start_time": "2021-10-16T10:24:52.452093",
     "status": "completed"
    },
    "tags": []
   },
   "outputs": [],
   "source": [
    "# Check for additional pages and append to dataframe.\n",
    "while metadf['next'].item() != None:\n",
    "    jsonObj = json.loads(requests.get(metadf['next'].item()).text)\n",
    "    metadf = pd.json_normalize(jsonObj[\"links\"])\n",
    "    df2 = pd.json_normalize(jsonObj[\"data\"])\n",
    "    df = df.append(df2)\n",
    "\n",
    "while metadf1['next'].item() != None:\n",
    "    jsonObj = json.loads(requests.get(metadf1['next'].item()).text)\n",
    "    metadf1 = pd.json_normalize(jsonObj[\"links\"])\n",
    "    df2 = pd.json_normalize(jsonObj[\"data\"])\n",
    "    df1 = df1.append(df2)"
   ]
  },
  {
   "cell_type": "code",
   "execution_count": 4,
   "id": "cleared-nepal",
   "metadata": {
    "execution": {
     "iopub.execute_input": "2021-10-16T10:24:55.012943Z",
     "iopub.status.busy": "2021-10-16T10:24:55.011253Z",
     "iopub.status.idle": "2021-10-16T10:24:55.016119Z",
     "shell.execute_reply": "2021-10-16T10:24:55.015421Z"
    },
    "papermill": {
     "duration": 0.037705,
     "end_time": "2021-10-16T10:24:55.016240",
     "exception": false,
     "start_time": "2021-10-16T10:24:54.978535",
     "status": "completed"
    },
    "tags": []
   },
   "outputs": [],
   "source": [
    "# Sort data by registration date and add count column.\n",
    "df['attributes.date_registered'] = pd.to_datetime(df['attributes.date_registered'])\n",
    "df = df.sort_values(by=['attributes.date_registered'], ascending=True)\n",
    "df.set_index('attributes.date_registered',inplace=True)\n",
    "df['count'] = range(1,len(df) + 1)\n",
    "countusers = df['count'][-1]\n",
    "\n",
    "df1['attributes.date_created'] = pd.to_datetime(df1['attributes.date_created'])\n",
    "df1 = df1.sort_values(by=['attributes.date_created'], ascending=True)\n",
    "df1.set_index('attributes.date_created',inplace=True)\n",
    "df1['count'] = range(1,len(df1) + 1)\n",
    "countnodes = df1['count'][-1]\n",
    "today = date.today()"
   ]
  },
  {
   "cell_type": "code",
   "execution_count": 5,
   "id": "funky-thanks",
   "metadata": {
    "execution": {
     "iopub.execute_input": "2021-10-16T10:24:55.062741Z",
     "iopub.status.busy": "2021-10-16T10:24:55.062189Z",
     "iopub.status.idle": "2021-10-16T10:24:55.066087Z",
     "shell.execute_reply": "2021-10-16T10:24:55.066517Z"
    },
    "papermill": {
     "duration": 0.031054,
     "end_time": "2021-10-16T10:24:55.066655",
     "exception": false,
     "start_time": "2021-10-16T10:24:55.035601",
     "status": "completed"
    },
    "tags": []
   },
   "outputs": [
    {
     "data": {
      "text/markdown": [
       "# As of October 16, 2021 there are <span style=\"color:red\">28</span> Open@Stout users and <span style=\"color:red\">32</span> public projects!"
      ],
      "text/plain": [
       "<IPython.core.display.Markdown object>"
      ]
     },
     "metadata": {},
     "output_type": "display_data"
    }
   ],
   "source": [
    "display(Markdown('# As of ' + today.strftime(\"%B %d, %Y\") + ' there are <span style=\\\"color:red\\\">'+ str(countusers) + '</span> Open@Stout users and <span style=\\\"color:red\\\">'+ str(countnodes) + '</span> public projects!'))"
   ]
  },
  {
   "cell_type": "code",
   "execution_count": 6,
   "id": "extra-report",
   "metadata": {
    "execution": {
     "iopub.execute_input": "2021-10-16T10:24:55.113687Z",
     "iopub.status.busy": "2021-10-16T10:24:55.113146Z",
     "iopub.status.idle": "2021-10-16T10:24:55.316407Z",
     "shell.execute_reply": "2021-10-16T10:24:55.315534Z"
    },
    "papermill": {
     "duration": 0.228896,
     "end_time": "2021-10-16T10:24:55.316538",
     "exception": false,
     "start_time": "2021-10-16T10:24:55.087642",
     "status": "completed"
    },
    "tags": []
   },
   "outputs": [
    {
     "data": {
      "image/png": "[encoded data removed]",
      "text/plain": [
       "<Figure size 864x432 with 1 Axes>"
      ]
     },
     "metadata": {
      "needs_background": "light"
     },
     "output_type": "display_data"
    }
   ],
   "source": [
    "outplot = df.plot(y='count', legend=False, grid='True', figsize=(12,6));\n",
    "outplot.set_ylabel(\"Number of registered users\");\n",
    "outplot.set_xlabel(\"Date\");"
   ]
  },
  {
   "cell_type": "code",
   "execution_count": 7,
   "id": "electoral-principle",
   "metadata": {
    "execution": {
     "iopub.execute_input": "2021-10-16T10:24:55.371266Z",
     "iopub.status.busy": "2021-10-16T10:24:55.370718Z",
     "iopub.status.idle": "2021-10-16T10:24:55.527792Z",
     "shell.execute_reply": "2021-10-16T10:24:55.528232Z"
    },
    "papermill": {
     "duration": 0.188525,
     "end_time": "2021-10-16T10:24:55.528391",
     "exception": false,
     "start_time": "2021-10-16T10:24:55.339866",
     "status": "completed"
    },
    "tags": []
   },
   "outputs": [
    {
     "data": {
      "image/png": "[encoded data removed]",
      "text/plain": [
       "<Figure size 864x432 with 1 Axes>"
      ]
     },
     "metadata": {
      "needs_background": "light"
     },
     "output_type": "display_data"
    }
   ],
   "source": [
    "outplot1 = df1.plot(y='count', legend=False, grid='True', figsize=(12,6));\n",
    "outplot1.set_ylabel(\"Number of affiliated projects\");\n",
    "outplot1.set_xlabel(\"Date\");"
   ]
  },
  {
   "cell_type": "code",
   "execution_count": 8,
   "id": "japanese-prayer",
   "metadata": {
    "execution": {
     "iopub.execute_input": "2021-10-16T10:24:55.585724Z",
     "iopub.status.busy": "2021-10-16T10:24:55.584442Z",
     "iopub.status.idle": "2021-10-16T10:24:55.589945Z",
     "shell.execute_reply": "2021-10-16T10:24:55.589125Z"
    },
    "papermill": {
     "duration": 0.035892,
     "end_time": "2021-10-16T10:24:55.590135",
     "exception": false,
     "start_time": "2021-10-16T10:24:55.554243",
     "status": "completed"
    },
    "tags": []
   },
   "outputs": [
    {
     "data": {
      "text/html": [
       "<style>\n",
       "div.input {\n",
       "    display:none;\n",
       "}\n",
       "</style>\n"
      ],
      "text/plain": [
       "<IPython.core.display.HTML object>"
      ]
     },
     "metadata": {},
     "output_type": "display_data"
    }
   ],
   "source": [
    "%%html\n",
    "<style>\n",
    "div.input {\n",
    "    display:none;\n",
    "}\n",
    "</style>"
   ]
  }
 ],
 "metadata": {
  "kernelspec": {
   "display_name": "Python 3",
   "language": "python",
   "name": "python3"
  },
  "language_info": {
   "codemirror_mode": {
    "name": "ipython",
    "version": 3
   },
   "file_extension": ".py",
   "mimetype": "text/x-python",
   "name": "python",
   "nbconvert_exporter": "python",
   "pygments_lexer": "ipython3",
   "version": "3.8.12"
  },
  "papermill": {
   "default_parameters": {},
   "duration": 7.411543,
   "end_time": "2021-10-16T10:24:55.926115",
   "environment_variables": {},
   "exception": null,
   "input_path": "OpenAtStout_dashboard.ipynb",
   "output_path": "OpenAtStout_dashboard.ipynb",
   "parameters": {},
   "start_time": "2021-10-16T10:24:48.514572",
   "version": "2.2.2"
  }
 },
 "nbformat": 4,
 "nbformat_minor": 5
}